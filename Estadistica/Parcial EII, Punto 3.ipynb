{
 "cells": [
  {
   "cell_type": "code",
   "execution_count": 1,
   "metadata": {},
   "outputs": [],
   "source": [
    "import itertools\n",
    "import numpy as np\n",
    "import pandas as pd\n",
    "import statsmodels.api as sm\n",
    "import statsmodels.formula.api as smf\n",
    "from sklearn.linear_model import LinearRegression\n",
    "import matplotlib.pyplot as plt"
   ]
  },
  {
   "cell_type": "markdown",
   "metadata": {},
   "source": [
    "Un ingeniero desea producir a escala industrial un tipo de gomina. En su planta de producción encuentra que la temperatura, la tasa de agitación y la presión son las variables que mejor explican la viscosidad de la gomina. Interesa maximizar dicha viscosidad. En las siguientes tablas se muestra la descripción del proceso:\n"
   ]
  },
  {
   "cell_type": "markdown",
   "metadata": {},
   "source": [
    "En primer lugar realizamos un diseño factorial para determinar cuales son los datos que deberiamos tener"
   ]
  },
  {
   "cell_type": "code",
   "execution_count": 2,
   "metadata": {},
   "outputs": [],
   "source": [
    "data_product = np.array(list(itertools.product([200,175,150],\n",
    "                                               [10.0,7.5,5.0],\n",
    "                                               [25,20,15]\n",
    "                                              )))"
   ]
  },
  {
   "cell_type": "code",
   "execution_count": 3,
   "metadata": {},
   "outputs": [
    {
     "data": {
      "text/plain": [
       "array([[200. ,  10. ,  25. ],\n",
       "       [200. ,  10. ,  20. ],\n",
       "       [200. ,  10. ,  15. ],\n",
       "       [200. ,   7.5,  25. ],\n",
       "       [200. ,   7.5,  20. ],\n",
       "       [200. ,   7.5,  15. ],\n",
       "       [200. ,   5. ,  25. ],\n",
       "       [200. ,   5. ,  20. ],\n",
       "       [200. ,   5. ,  15. ],\n",
       "       [175. ,  10. ,  25. ],\n",
       "       [175. ,  10. ,  20. ],\n",
       "       [175. ,  10. ,  15. ],\n",
       "       [175. ,   7.5,  25. ],\n",
       "       [175. ,   7.5,  20. ],\n",
       "       [175. ,   7.5,  15. ],\n",
       "       [175. ,   5. ,  25. ],\n",
       "       [175. ,   5. ,  20. ],\n",
       "       [175. ,   5. ,  15. ],\n",
       "       [150. ,  10. ,  25. ],\n",
       "       [150. ,  10. ,  20. ],\n",
       "       [150. ,  10. ,  15. ],\n",
       "       [150. ,   7.5,  25. ],\n",
       "       [150. ,   7.5,  20. ],\n",
       "       [150. ,   7.5,  15. ],\n",
       "       [150. ,   5. ,  25. ],\n",
       "       [150. ,   5. ,  20. ],\n",
       "       [150. ,   5. ,  15. ]])"
      ]
     },
     "execution_count": 3,
     "metadata": {},
     "output_type": "execute_result"
    }
   ],
   "source": [
    "data_product"
   ]
  },
  {
   "cell_type": "code",
   "execution_count": 4,
   "metadata": {},
   "outputs": [
    {
     "data": {
      "text/plain": [
       "(27, 3)"
      ]
     },
     "execution_count": 4,
     "metadata": {},
     "output_type": "execute_result"
    }
   ],
   "source": [
    "data_product.shape"
   ]
  },
  {
   "cell_type": "markdown",
   "metadata": {},
   "source": [
    "Al tener tres parametros cada uno con tres niveles se deben obtener $3^3 = 27$ corridas en las experimentaciones"
   ]
  },
  {
   "cell_type": "code",
   "execution_count": 5,
   "metadata": {},
   "outputs": [],
   "source": [
    "# Cargamos los datos entregados\n",
    "df = pd.read_csv('datasets/parcial_E-II.csv')"
   ]
  },
  {
   "cell_type": "markdown",
   "metadata": {},
   "source": [
    "Los datos entregados en el problema estában organizados de modo que por cada nivel de se reemplazan los valores con -1, 0 y 1; para poder hallar mas adelante un modelo certero debemos trabajarlos con los datos reales, los cuales toman valores contínuos y no discretos como están factorizados"
   ]
  },
  {
   "cell_type": "markdown",
   "metadata": {},
   "source": [
    "**a.** Para este diseño se utilizó una metodología de Box and Behnken: utilizando R proponga la matriz del diseño e incluya la variable de respuesta viscosidad con los valores reales"
   ]
  },
  {
   "cell_type": "markdown",
   "metadata": {},
   "source": [
    "**Solución**"
   ]
  },
  {
   "cell_type": "markdown",
   "metadata": {},
   "source": [
    "Mostramos los valores ordenados entre sí por los niveles de las caracteristicas"
   ]
  },
  {
   "cell_type": "code",
   "execution_count": 6,
   "metadata": {},
   "outputs": [
    {
     "data": {
      "text/html": [
       "<div>\n",
       "<style scoped>\n",
       "    .dataframe tbody tr th:only-of-type {\n",
       "        vertical-align: middle;\n",
       "    }\n",
       "\n",
       "    .dataframe tbody tr th {\n",
       "        vertical-align: top;\n",
       "    }\n",
       "\n",
       "    .dataframe thead th {\n",
       "        text-align: right;\n",
       "    }\n",
       "</style>\n",
       "<table border=\"1\" class=\"dataframe\">\n",
       "  <thead>\n",
       "    <tr style=\"text-align: right;\">\n",
       "      <th></th>\n",
       "      <th>corrida</th>\n",
       "      <th>temperatura</th>\n",
       "      <th>tasa_agitacion</th>\n",
       "      <th>presion</th>\n",
       "      <th>viscosidad</th>\n",
       "    </tr>\n",
       "  </thead>\n",
       "  <tbody>\n",
       "    <tr>\n",
       "      <th>0</th>\n",
       "      <td>1</td>\n",
       "      <td>150</td>\n",
       "      <td>5.0</td>\n",
       "      <td>20</td>\n",
       "      <td>537.66</td>\n",
       "    </tr>\n",
       "    <tr>\n",
       "      <th>4</th>\n",
       "      <td>5</td>\n",
       "      <td>150</td>\n",
       "      <td>7.5</td>\n",
       "      <td>15</td>\n",
       "      <td>647.66</td>\n",
       "    </tr>\n",
       "    <tr>\n",
       "      <th>6</th>\n",
       "      <td>7</td>\n",
       "      <td>150</td>\n",
       "      <td>7.5</td>\n",
       "      <td>25</td>\n",
       "      <td>352.66</td>\n",
       "    </tr>\n",
       "    <tr>\n",
       "      <th>2</th>\n",
       "      <td>3</td>\n",
       "      <td>150</td>\n",
       "      <td>10.0</td>\n",
       "      <td>20</td>\n",
       "      <td>598.66</td>\n",
       "    </tr>\n",
       "    <tr>\n",
       "      <th>8</th>\n",
       "      <td>9</td>\n",
       "      <td>175</td>\n",
       "      <td>5.0</td>\n",
       "      <td>15</td>\n",
       "      <td>597.66</td>\n",
       "    </tr>\n",
       "    <tr>\n",
       "      <th>10</th>\n",
       "      <td>11</td>\n",
       "      <td>175</td>\n",
       "      <td>5.0</td>\n",
       "      <td>25</td>\n",
       "      <td>534.66</td>\n",
       "    </tr>\n",
       "    <tr>\n",
       "      <th>12</th>\n",
       "      <td>13</td>\n",
       "      <td>175</td>\n",
       "      <td>7.5</td>\n",
       "      <td>20</td>\n",
       "      <td>654.66</td>\n",
       "    </tr>\n",
       "    <tr>\n",
       "      <th>13</th>\n",
       "      <td>14</td>\n",
       "      <td>175</td>\n",
       "      <td>7.5</td>\n",
       "      <td>20</td>\n",
       "      <td>601.66</td>\n",
       "    </tr>\n",
       "    <tr>\n",
       "      <th>14</th>\n",
       "      <td>15</td>\n",
       "      <td>175</td>\n",
       "      <td>7.5</td>\n",
       "      <td>20</td>\n",
       "      <td>622.66</td>\n",
       "    </tr>\n",
       "    <tr>\n",
       "      <th>9</th>\n",
       "      <td>10</td>\n",
       "      <td>175</td>\n",
       "      <td>10.0</td>\n",
       "      <td>15</td>\n",
       "      <td>650.66</td>\n",
       "    </tr>\n",
       "    <tr>\n",
       "      <th>11</th>\n",
       "      <td>12</td>\n",
       "      <td>175</td>\n",
       "      <td>10.0</td>\n",
       "      <td>25</td>\n",
       "      <td>658.66</td>\n",
       "    </tr>\n",
       "    <tr>\n",
       "      <th>1</th>\n",
       "      <td>2</td>\n",
       "      <td>200</td>\n",
       "      <td>5.0</td>\n",
       "      <td>20</td>\n",
       "      <td>582.66</td>\n",
       "    </tr>\n",
       "    <tr>\n",
       "      <th>5</th>\n",
       "      <td>6</td>\n",
       "      <td>200</td>\n",
       "      <td>7.5</td>\n",
       "      <td>15</td>\n",
       "      <td>460.66</td>\n",
       "    </tr>\n",
       "    <tr>\n",
       "      <th>7</th>\n",
       "      <td>8</td>\n",
       "      <td>200</td>\n",
       "      <td>7.5</td>\n",
       "      <td>25</td>\n",
       "      <td>602.66</td>\n",
       "    </tr>\n",
       "    <tr>\n",
       "      <th>3</th>\n",
       "      <td>4</td>\n",
       "      <td>200</td>\n",
       "      <td>10.0</td>\n",
       "      <td>20</td>\n",
       "      <td>565.66</td>\n",
       "    </tr>\n",
       "  </tbody>\n",
       "</table>\n",
       "</div>"
      ],
      "text/plain": [
       "    corrida  temperatura  tasa_agitacion  presion  viscosidad\n",
       "0         1          150             5.0       20      537.66\n",
       "4         5          150             7.5       15      647.66\n",
       "6         7          150             7.5       25      352.66\n",
       "2         3          150            10.0       20      598.66\n",
       "8         9          175             5.0       15      597.66\n",
       "10       11          175             5.0       25      534.66\n",
       "12       13          175             7.5       20      654.66\n",
       "13       14          175             7.5       20      601.66\n",
       "14       15          175             7.5       20      622.66\n",
       "9        10          175            10.0       15      650.66\n",
       "11       12          175            10.0       25      658.66\n",
       "1         2          200             5.0       20      582.66\n",
       "5         6          200             7.5       15      460.66\n",
       "7         8          200             7.5       25      602.66\n",
       "3         4          200            10.0       20      565.66"
      ]
     },
     "execution_count": 6,
     "metadata": {},
     "output_type": "execute_result"
    }
   ],
   "source": [
    "df.sort_values(['temperatura','tasa_agitacion','presion'])"
   ]
  },
  {
   "cell_type": "code",
   "execution_count": 7,
   "metadata": {},
   "outputs": [
    {
     "data": {
      "text/plain": [
       "(15, 5)"
      ]
     },
     "execution_count": 7,
     "metadata": {},
     "output_type": "execute_result"
    }
   ],
   "source": [
    "df.shape"
   ]
  },
  {
   "cell_type": "markdown",
   "metadata": {},
   "source": [
    "Con las medidas de éste dataframe de entrada podemos decir que faltan corridas por evaluar, ya que tenemos sólo 15 cuando deberíamos tener 27"
   ]
  },
  {
   "cell_type": "markdown",
   "metadata": {},
   "source": [
    "--------------------------------------------------------------"
   ]
  },
  {
   "cell_type": "markdown",
   "metadata": {},
   "source": [
    "**b.** Genere un modelo de primer y de segundo orden: ¿Cuál modelo utilizaría para concluir la optimización y por qué? Genere la gráfica X y Y de predichos y experimentales."
   ]
  },
  {
   "cell_type": "code",
   "execution_count": 8,
   "metadata": {},
   "outputs": [],
   "source": [
    "# Generamos un modelo de primer order usando StatsModels\n",
    "model_sm = sm.OLS(df['viscosidad'].values, df.drop(['viscosidad','corrida'],axis = 1), hasconst=True).fit()"
   ]
  },
  {
   "cell_type": "code",
   "execution_count": 9,
   "metadata": {},
   "outputs": [
    {
     "name": "stderr",
     "output_type": "stream",
     "text": [
      "/Library/Frameworks/Python.framework/Versions/3.7/lib/python3.7/site-packages/scipy/stats/stats.py:1394: UserWarning: kurtosistest only valid for n>=20 ... continuing anyway, n=15\n",
      "  \"anyway, n=%i\" % int(n))\n"
     ]
    },
    {
     "data": {
      "text/html": [
       "<table class=\"simpletable\">\n",
       "<caption>OLS Regression Results</caption>\n",
       "<tr>\n",
       "  <th>Dep. Variable:</th>            <td>y</td>        <th>  R-squared:         </th> <td>  -0.193</td>\n",
       "</tr>\n",
       "<tr>\n",
       "  <th>Model:</th>                   <td>OLS</td>       <th>  Adj. R-squared:    </th> <td>  -0.392</td>\n",
       "</tr>\n",
       "<tr>\n",
       "  <th>Method:</th>             <td>Least Squares</td>  <th>  F-statistic:       </th> <td> -0.9727</td>\n",
       "</tr>\n",
       "<tr>\n",
       "  <th>Date:</th>             <td>Mon, 05 Nov 2018</td> <th>  Prob (F-statistic):</th>  <td>  1.00</td> \n",
       "</tr>\n",
       "<tr>\n",
       "  <th>Time:</th>                 <td>23:33:37</td>     <th>  Log-Likelihood:    </th> <td> -88.240</td>\n",
       "</tr>\n",
       "<tr>\n",
       "  <th>No. Observations:</th>      <td>    15</td>      <th>  AIC:               </th> <td>   182.5</td>\n",
       "</tr>\n",
       "<tr>\n",
       "  <th>Df Residuals:</th>          <td>    12</td>      <th>  BIC:               </th> <td>   184.6</td>\n",
       "</tr>\n",
       "<tr>\n",
       "  <th>Df Model:</th>              <td>     2</td>      <th>                     </th>     <td> </td>   \n",
       "</tr>\n",
       "<tr>\n",
       "  <th>Covariance Type:</th>      <td>nonrobust</td>    <th>                     </th>     <td> </td>   \n",
       "</tr>\n",
       "</table>\n",
       "<table class=\"simpletable\">\n",
       "<tr>\n",
       "         <td></td>           <th>coef</th>     <th>std err</th>      <th>t</th>      <th>P>|t|</th>  <th>[0.025</th>    <th>0.975]</th>  \n",
       "</tr>\n",
       "<tr>\n",
       "  <th>temperatura</th>    <td>    2.3789</td> <td>    0.803</td> <td>    2.961</td> <td> 0.012</td> <td>    0.629</td> <td>    4.129</td>\n",
       "</tr>\n",
       "<tr>\n",
       "  <th>tasa_agitacion</th> <td>   19.6383</td> <td>   12.871</td> <td>    1.526</td> <td> 0.153</td> <td>   -8.404</td> <td>   47.681</td>\n",
       "</tr>\n",
       "<tr>\n",
       "  <th>presion</th>        <td>    0.5255</td> <td>    6.082</td> <td>    0.086</td> <td> 0.933</td> <td>  -12.726</td> <td>   13.777</td>\n",
       "</tr>\n",
       "</table>\n",
       "<table class=\"simpletable\">\n",
       "<tr>\n",
       "  <th>Omnibus:</th>       <td> 2.827</td> <th>  Durbin-Watson:     </th> <td>   1.992</td>\n",
       "</tr>\n",
       "<tr>\n",
       "  <th>Prob(Omnibus):</th> <td> 0.243</td> <th>  Jarque-Bera (JB):  </th> <td>   1.826</td>\n",
       "</tr>\n",
       "<tr>\n",
       "  <th>Skew:</th>          <td>-0.845</td> <th>  Prob(JB):          </th> <td>   0.401</td>\n",
       "</tr>\n",
       "<tr>\n",
       "  <th>Kurtosis:</th>      <td> 2.745</td> <th>  Cond. No.          </th> <td>    91.5</td>\n",
       "</tr>\n",
       "</table><br/><br/>Warnings:<br/>[1] Standard Errors assume that the covariance matrix of the errors is correctly specified."
      ],
      "text/plain": [
       "<class 'statsmodels.iolib.summary.Summary'>\n",
       "\"\"\"\n",
       "                            OLS Regression Results                            \n",
       "==============================================================================\n",
       "Dep. Variable:                      y   R-squared:                      -0.193\n",
       "Model:                            OLS   Adj. R-squared:                 -0.392\n",
       "Method:                 Least Squares   F-statistic:                   -0.9727\n",
       "Date:                Mon, 05 Nov 2018   Prob (F-statistic):               1.00\n",
       "Time:                        23:33:37   Log-Likelihood:                -88.240\n",
       "No. Observations:                  15   AIC:                             182.5\n",
       "Df Residuals:                      12   BIC:                             184.6\n",
       "Df Model:                           2                                         \n",
       "Covariance Type:            nonrobust                                         \n",
       "==================================================================================\n",
       "                     coef    std err          t      P>|t|      [0.025      0.975]\n",
       "----------------------------------------------------------------------------------\n",
       "temperatura        2.3789      0.803      2.961      0.012       0.629       4.129\n",
       "tasa_agitacion    19.6383     12.871      1.526      0.153      -8.404      47.681\n",
       "presion            0.5255      6.082      0.086      0.933     -12.726      13.777\n",
       "==============================================================================\n",
       "Omnibus:                        2.827   Durbin-Watson:                   1.992\n",
       "Prob(Omnibus):                  0.243   Jarque-Bera (JB):                1.826\n",
       "Skew:                          -0.845   Prob(JB):                        0.401\n",
       "Kurtosis:                       2.745   Cond. No.                         91.5\n",
       "==============================================================================\n",
       "\n",
       "Warnings:\n",
       "[1] Standard Errors assume that the covariance matrix of the errors is correctly specified.\n",
       "\"\"\""
      ]
     },
     "execution_count": 9,
     "metadata": {},
     "output_type": "execute_result"
    }
   ],
   "source": [
    "model_sm.summary()"
   ]
  },
  {
   "cell_type": "code",
   "execution_count": 10,
   "metadata": {},
   "outputs": [
    {
     "data": {
      "text/plain": [
       "array([465.54078712])"
      ]
     },
     "execution_count": 10,
     "metadata": {},
     "output_type": "execute_result"
    }
   ],
   "source": [
    "#Probamos nuestro modelo con los valores del primer registro de nuestro dataset\n",
    "model_sm.predict([150, 5, 20])"
   ]
  },
  {
   "cell_type": "code",
   "execution_count": 11,
   "metadata": {},
   "outputs": [
    {
     "name": "stderr",
     "output_type": "stream",
     "text": [
      "/Library/Frameworks/Python.framework/Versions/3.7/lib/python3.7/site-packages/sklearn/linear_model/base.py:485: RuntimeWarning: internal gelsd driver lwork query error, required iwork dimension not returned. This is likely the result of LAPACK bug 0038, fixed in LAPACK 3.2.2 (released July 21, 2010). Falling back to 'gelss' driver.\n",
      "  linalg.lstsq(X, y)\n"
     ]
    },
    {
     "data": {
      "text/plain": [
       "LinearRegression(copy_X=True, fit_intercept=True, n_jobs=None,\n",
       "         normalize=False)"
      ]
     },
     "execution_count": 11,
     "metadata": {},
     "output_type": "execute_result"
    }
   ],
   "source": [
    "#Generamos un modelo usando LinearRegression de sklearn\n",
    "model_skl = LinearRegression()\n",
    "model_skl.fit(df.drop(['viscosidad','corrida'], axis=1),df['viscosidad'])"
   ]
  },
  {
   "cell_type": "code",
   "execution_count": 12,
   "metadata": {},
   "outputs": [
    {
     "data": {
      "text/plain": [
       "array([540.92666667])"
      ]
     },
     "execution_count": 12,
     "metadata": {},
     "output_type": "execute_result"
    }
   ],
   "source": [
    "#Probamos nuestro modelo con los valores del primer registro de nuestro dataset\n",
    "model_skl.predict([[150, 5, 20]])"
   ]
  },
  {
   "cell_type": "code",
   "execution_count": 13,
   "metadata": {
    "scrolled": true
   },
   "outputs": [
    {
     "name": "stdout",
     "output_type": "stream",
     "text": [
      "[ 0.375 11.05  -5.2  ]\n",
      "533.4266666666666\n"
     ]
    }
   ],
   "source": [
    "#Mostramos los coeficientes y el intercepto del modelo generado\n",
    "print(model_skl.coef_)\n",
    "print(model_skl.intercept_)"
   ]
  },
  {
   "cell_type": "code",
   "execution_count": 18,
   "metadata": {},
   "outputs": [],
   "source": [
    "#Tomamos los valores medidos entregados en el dataset\n",
    "medido = df['viscosidad'].values\n",
    "medido.sort()"
   ]
  },
  {
   "cell_type": "code",
   "execution_count": 19,
   "metadata": {},
   "outputs": [],
   "source": [
    "#Tomamos un array con las caracteristicas\n",
    "x_data = df.drop(['viscosidad','corrida'], axis=1).values"
   ]
  },
  {
   "cell_type": "code",
   "execution_count": 31,
   "metadata": {},
   "outputs": [],
   "source": [
    "#Tomamos los valores predichos por nuestro primer modelo\n",
    "predicho_model_sm = np.array([model_sm.predict([e[0],e[1],e[2]]) for e in x_data])\n",
    "predicho_model_sm.sort()"
   ]
  },
  {
   "cell_type": "code",
   "execution_count": 32,
   "metadata": {},
   "outputs": [],
   "source": [
    "#Tomamos los valores predichos por nuestro segundo modelo\n",
    "predicho_model_skl = np.array([model_skl.predict([[e[0],e[1],e[2]]]) for e in x_data])\n",
    "predicho_model_skl.sort()"
   ]
  },
  {
   "cell_type": "code",
   "execution_count": 33,
   "metadata": {},
   "outputs": [
    {
     "data": {
      "text/plain": [
       "[<matplotlib.lines.Line2D at 0x122fcb7f0>]"
      ]
     },
     "execution_count": 33,
     "metadata": {},
     "output_type": "execute_result"
    },
    {
     "data": {
      "image/png": "[encoded data removed]",
      "text/plain": [
       "<Figure size 432x288 with 1 Axes>"
      ]
     },
     "metadata": {
      "needs_background": "light"
     },
     "output_type": "display_data"
    }
   ],
   "source": [
    "#Generamos una gráfica para mirar que tan dispersos estan los datos medidos vs los predichos con el primer modelo\n",
    "plt.scatter(predicho_model_sm,medido)\n",
    "plt.plot(list(range(450,700)),list(range(450,700)), color = 'red')"
   ]
  },
  {
   "cell_type": "code",
   "execution_count": 34,
   "metadata": {},
   "outputs": [
    {
     "data": {
      "text/plain": [
       "[<matplotlib.lines.Line2D at 0x1233cdcf8>]"
      ]
     },
     "execution_count": 34,
     "metadata": {},
     "output_type": "execute_result"
    },
    {
     "data": {
      "image/png": "[encoded data removed]",
      "text/plain": [
       "<Figure size 432x288 with 1 Axes>"
      ]
     },
     "metadata": {
      "needs_background": "light"
     },
     "output_type": "display_data"
    }
   ],
   "source": [
    "#Generamos una gráfica para mirar que tan dispersos estan los datos medidos vs los predichos con el segundo modelo\n",
    "plt.scatter(predicho_model_skl, medido)\n",
    "plt.plot(list(range(450,700)),list(range(450,700)), color = 'red')"
   ]
  },
  {
   "cell_type": "markdown",
   "metadata": {},
   "source": [
    "Se puede notar una menor dispersion de los datos cuando usamos el modelos generado por sklearn.LinearRegression"
   ]
  },
  {
   "cell_type": "markdown",
   "metadata": {},
   "source": [
    "--------"
   ]
  },
  {
   "cell_type": "code",
   "execution_count": 90,
   "metadata": {},
   "outputs": [
    {
     "data": {
      "text/html": [
       "<div>\n",
       "<style scoped>\n",
       "    .dataframe tbody tr th:only-of-type {\n",
       "        vertical-align: middle;\n",
       "    }\n",
       "\n",
       "    .dataframe tbody tr th {\n",
       "        vertical-align: top;\n",
       "    }\n",
       "\n",
       "    .dataframe thead th {\n",
       "        text-align: right;\n",
       "    }\n",
       "</style>\n",
       "<table border=\"1\" class=\"dataframe\">\n",
       "  <thead>\n",
       "    <tr style=\"text-align: right;\">\n",
       "      <th></th>\n",
       "      <th>corrida</th>\n",
       "      <th>temperatura</th>\n",
       "      <th>tasa_agitacion</th>\n",
       "      <th>presion</th>\n",
       "      <th>viscosidad</th>\n",
       "    </tr>\n",
       "  </thead>\n",
       "  <tbody>\n",
       "    <tr>\n",
       "      <th>0</th>\n",
       "      <td>1</td>\n",
       "      <td>150</td>\n",
       "      <td>5.0</td>\n",
       "      <td>20</td>\n",
       "      <td>537.66</td>\n",
       "    </tr>\n",
       "    <tr>\n",
       "      <th>1</th>\n",
       "      <td>2</td>\n",
       "      <td>200</td>\n",
       "      <td>5.0</td>\n",
       "      <td>20</td>\n",
       "      <td>582.66</td>\n",
       "    </tr>\n",
       "    <tr>\n",
       "      <th>2</th>\n",
       "      <td>3</td>\n",
       "      <td>150</td>\n",
       "      <td>10.0</td>\n",
       "      <td>20</td>\n",
       "      <td>598.66</td>\n",
       "    </tr>\n",
       "    <tr>\n",
       "      <th>3</th>\n",
       "      <td>4</td>\n",
       "      <td>200</td>\n",
       "      <td>10.0</td>\n",
       "      <td>20</td>\n",
       "      <td>565.66</td>\n",
       "    </tr>\n",
       "    <tr>\n",
       "      <th>4</th>\n",
       "      <td>5</td>\n",
       "      <td>150</td>\n",
       "      <td>7.5</td>\n",
       "      <td>15</td>\n",
       "      <td>647.66</td>\n",
       "    </tr>\n",
       "  </tbody>\n",
       "</table>\n",
       "</div>"
      ],
      "text/plain": [
       "   corrida  temperatura  tasa_agitacion  presion  viscosidad\n",
       "0        1          150             5.0       20      537.66\n",
       "1        2          200             5.0       20      582.66\n",
       "2        3          150            10.0       20      598.66\n",
       "3        4          200            10.0       20      565.66\n",
       "4        5          150             7.5       15      647.66"
      ]
     },
     "execution_count": 90,
     "metadata": {},
     "output_type": "execute_result"
    }
   ],
   "source": [
    "df.head()"
   ]
  },
  {
   "cell_type": "code",
   "execution_count": 84,
   "metadata": {},
   "outputs": [
    {
     "name": "stderr",
     "output_type": "stream",
     "text": [
      "/Library/Frameworks/Python.framework/Versions/3.7/lib/python3.7/site-packages/scipy/stats/stats.py:1394: UserWarning: kurtosistest only valid for n>=20 ... continuing anyway, n=15\n",
      "  \"anyway, n=%i\" % int(n))\n"
     ]
    },
    {
     "data": {
      "text/html": [
       "<table class=\"simpletable\">\n",
       "<caption>OLS Regression Results</caption>\n",
       "<tr>\n",
       "  <th>Dep. Variable:</th>       <td>viscosidad</td>    <th>  R-squared:         </th> <td>   0.129</td>\n",
       "</tr>\n",
       "<tr>\n",
       "  <th>Model:</th>                   <td>OLS</td>       <th>  Adj. R-squared:    </th> <td>  -0.109</td>\n",
       "</tr>\n",
       "<tr>\n",
       "  <th>Method:</th>             <td>Least Squares</td>  <th>  F-statistic:       </th> <td>  0.5429</td>\n",
       "</tr>\n",
       "<tr>\n",
       "  <th>Date:</th>             <td>Mon, 05 Nov 2018</td> <th>  Prob (F-statistic):</th>  <td> 0.663</td> \n",
       "</tr>\n",
       "<tr>\n",
       "  <th>Time:</th>                 <td>16:31:26</td>     <th>  Log-Likelihood:    </th> <td> -85.878</td>\n",
       "</tr>\n",
       "<tr>\n",
       "  <th>No. Observations:</th>      <td>    15</td>      <th>  AIC:               </th> <td>   179.8</td>\n",
       "</tr>\n",
       "<tr>\n",
       "  <th>Df Residuals:</th>          <td>    11</td>      <th>  BIC:               </th> <td>   182.6</td>\n",
       "</tr>\n",
       "<tr>\n",
       "  <th>Df Model:</th>              <td>     3</td>      <th>                     </th>     <td> </td>   \n",
       "</tr>\n",
       "<tr>\n",
       "  <th>Covariance Type:</th>      <td>nonrobust</td>    <th>                     </th>     <td> </td>   \n",
       "</tr>\n",
       "</table>\n",
       "<table class=\"simpletable\">\n",
       "<tr>\n",
       "         <td></td>           <th>coef</th>     <th>std err</th>      <th>t</th>      <th>P>|t|</th>  <th>[0.025</th>    <th>0.975]</th>  \n",
       "</tr>\n",
       "<tr>\n",
       "  <th>Intercept</th>      <td>  533.4267</td> <td>  264.340</td> <td>    2.018</td> <td> 0.069</td> <td>  -48.382</td> <td> 1115.235</td>\n",
       "</tr>\n",
       "<tr>\n",
       "  <th>temperatura</th>    <td>    0.3750</td> <td>    1.225</td> <td>    0.306</td> <td> 0.765</td> <td>   -2.321</td> <td>    3.071</td>\n",
       "</tr>\n",
       "<tr>\n",
       "  <th>tasa_agitacion</th> <td>   11.0500</td> <td>   12.247</td> <td>    0.902</td> <td> 0.386</td> <td>  -15.907</td> <td>   38.007</td>\n",
       "</tr>\n",
       "<tr>\n",
       "  <th>presion</th>        <td>   -5.2000</td> <td>    6.124</td> <td>   -0.849</td> <td> 0.414</td> <td>  -18.678</td> <td>    8.278</td>\n",
       "</tr>\n",
       "</table>\n",
       "<table class=\"simpletable\">\n",
       "<tr>\n",
       "  <th>Omnibus:</th>       <td>10.389</td> <th>  Durbin-Watson:     </th> <td>   1.454</td>\n",
       "</tr>\n",
       "<tr>\n",
       "  <th>Prob(Omnibus):</th> <td> 0.006</td> <th>  Jarque-Bera (JB):  </th> <td>   6.693</td>\n",
       "</tr>\n",
       "<tr>\n",
       "  <th>Skew:</th>          <td>-1.507</td> <th>  Prob(JB):          </th> <td>  0.0352</td>\n",
       "</tr>\n",
       "<tr>\n",
       "  <th>Kurtosis:</th>      <td> 4.272</td> <th>  Cond. No.          </th> <td>2.10e+03</td>\n",
       "</tr>\n",
       "</table><br/><br/>Warnings:<br/>[1] Standard Errors assume that the covariance matrix of the errors is correctly specified.<br/>[2] The condition number is large, 2.1e+03. This might indicate that there are<br/>strong multicollinearity or other numerical problems."
      ],
      "text/plain": [
       "<class 'statsmodels.iolib.summary.Summary'>\n",
       "\"\"\"\n",
       "                            OLS Regression Results                            \n",
       "==============================================================================\n",
       "Dep. Variable:             viscosidad   R-squared:                       0.129\n",
       "Model:                            OLS   Adj. R-squared:                 -0.109\n",
       "Method:                 Least Squares   F-statistic:                    0.5429\n",
       "Date:                Mon, 05 Nov 2018   Prob (F-statistic):              0.663\n",
       "Time:                        16:31:26   Log-Likelihood:                -85.878\n",
       "No. Observations:                  15   AIC:                             179.8\n",
       "Df Residuals:                      11   BIC:                             182.6\n",
       "Df Model:                           3                                         \n",
       "Covariance Type:            nonrobust                                         \n",
       "==================================================================================\n",
       "                     coef    std err          t      P>|t|      [0.025      0.975]\n",
       "----------------------------------------------------------------------------------\n",
       "Intercept        533.4267    264.340      2.018      0.069     -48.382    1115.235\n",
       "temperatura        0.3750      1.225      0.306      0.765      -2.321       3.071\n",
       "tasa_agitacion    11.0500     12.247      0.902      0.386     -15.907      38.007\n",
       "presion           -5.2000      6.124     -0.849      0.414     -18.678       8.278\n",
       "==============================================================================\n",
       "Omnibus:                       10.389   Durbin-Watson:                   1.454\n",
       "Prob(Omnibus):                  0.006   Jarque-Bera (JB):                6.693\n",
       "Skew:                          -1.507   Prob(JB):                       0.0352\n",
       "Kurtosis:                       4.272   Cond. No.                     2.10e+03\n",
       "==============================================================================\n",
       "\n",
       "Warnings:\n",
       "[1] Standard Errors assume that the covariance matrix of the errors is correctly specified.\n",
       "[2] The condition number is large, 2.1e+03. This might indicate that there are\n",
       "strong multicollinearity or other numerical problems.\n",
       "\"\"\""
      ]
     },
     "execution_count": 84,
     "metadata": {},
     "output_type": "execute_result"
    }
   ],
   "source": [
    "# Generamos un modelo de primer order usando StatsModels.formula\n",
    "smf.ols(formula = 'viscosidad ~ temperatura + tasa_agitacion + presion', data = df.drop('corrida',axis=1)).fit().summary()"
   ]
  },
  {
   "cell_type": "code",
   "execution_count": 2,
   "metadata": {},
   "outputs": [],
   "source": [
    "model_smf = lambda x0,x1,x2: x0*0.3750 "
   ]
  },
  {
   "cell_type": "code",
   "execution_count": 1,
   "metadata": {},
   "outputs": [],
   "source": [
    "#Tomamos los valores predichos por nuestro segundo modelo\n",
    "#predicho_model_smf = np.array([model_smf.predict([[e[0],e[1],e[2]]]) for e in caracteristicas])"
   ]
  },
  {
   "cell_type": "code",
   "execution_count": 75,
   "metadata": {},
   "outputs": [],
   "source": [
    "from scipy import optimize"
   ]
  },
  {
   "cell_type": "code",
   "execution_count": 76,
   "metadata": {},
   "outputs": [],
   "source": [
    "xdata = df.drop(['viscosidad','corrida'],axis=1).values"
   ]
  },
  {
   "cell_type": "code",
   "execution_count": 77,
   "metadata": {},
   "outputs": [],
   "source": [
    "# usamos los valores arrojados por nuestro modelo\n",
    "beta = (0.375, 11.05, -5.2, 533.4266)#(a,b,c,intercept)"
   ]
  },
  {
   "cell_type": "code",
   "execution_count": 78,
   "metadata": {},
   "outputs": [],
   "source": [
    "# funcion modelo\n",
    "def f(x,beta):\n",
    "    y = [i[0]*beta[0] + i[1]*beta[1] + i[2]*beta[2] + beta[3] for i in x]\n",
    "    return y"
   ]
  },
  {
   "cell_type": "code",
   "execution_count": 79,
   "metadata": {},
   "outputs": [],
   "source": [
    "# Ejecutamos nuestra función creada y la obtenemos los valores predichos\n",
    "ydata = f(xdata, beta)"
   ]
  },
  {
   "cell_type": "code",
   "execution_count": 81,
   "metadata": {},
   "outputs": [
    {
     "ename": "TypeError",
     "evalue": "unsupported operand type(s) for -: 'list' and 'list'",
     "output_type": "error",
     "traceback": [
      "\u001b[0;31m---------------------------------------------------------------------------\u001b[0m",
      "\u001b[0;31mTypeError\u001b[0m                                 Traceback (most recent call last)",
      "\u001b[0;32m<ipython-input-81-31a43a229cd2>\u001b[0m in \u001b[0;36m<module>\u001b[0;34m\u001b[0m\n\u001b[1;32m      5\u001b[0m \u001b[0;31m# comenzamos la optimización\u001b[0m\u001b[0;34m\u001b[0m\u001b[0;34m\u001b[0m\u001b[0m\n\u001b[1;32m      6\u001b[0m \u001b[0mbeta_start\u001b[0m \u001b[0;34m=\u001b[0m \u001b[0;34m(\u001b[0m\u001b[0;36m1\u001b[0m\u001b[0;34m,\u001b[0m \u001b[0;36m1\u001b[0m\u001b[0;34m,\u001b[0m \u001b[0;36m1\u001b[0m\u001b[0;34m,\u001b[0m\u001b[0;36m1\u001b[0m\u001b[0;34m)\u001b[0m\u001b[0;34m\u001b[0m\u001b[0m\n\u001b[0;32m----> 7\u001b[0;31m \u001b[0mbeta_opt\u001b[0m\u001b[0;34m,\u001b[0m \u001b[0mbeta_cov\u001b[0m \u001b[0;34m=\u001b[0m \u001b[0moptimize\u001b[0m\u001b[0;34m.\u001b[0m\u001b[0mleastsq\u001b[0m\u001b[0;34m(\u001b[0m\u001b[0mg\u001b[0m\u001b[0;34m,\u001b[0m \u001b[0mbeta_start\u001b[0m\u001b[0;34m)\u001b[0m\u001b[0;34m\u001b[0m\u001b[0m\n\u001b[0m\u001b[1;32m      8\u001b[0m \u001b[0mbeta_opt\u001b[0m\u001b[0;34m\u001b[0m\u001b[0m\n",
      "\u001b[0;32m/Library/Frameworks/Python.framework/Versions/3.7/lib/python3.7/site-packages/scipy/optimize/minpack.py\u001b[0m in \u001b[0;36mleastsq\u001b[0;34m(func, x0, args, Dfun, full_output, col_deriv, ftol, xtol, gtol, maxfev, epsfcn, factor, diag)\u001b[0m\n\u001b[1;32m    381\u001b[0m     \u001b[0;32mif\u001b[0m \u001b[0;32mnot\u001b[0m \u001b[0misinstance\u001b[0m\u001b[0;34m(\u001b[0m\u001b[0margs\u001b[0m\u001b[0;34m,\u001b[0m \u001b[0mtuple\u001b[0m\u001b[0;34m)\u001b[0m\u001b[0;34m:\u001b[0m\u001b[0;34m\u001b[0m\u001b[0m\n\u001b[1;32m    382\u001b[0m         \u001b[0margs\u001b[0m \u001b[0;34m=\u001b[0m \u001b[0;34m(\u001b[0m\u001b[0margs\u001b[0m\u001b[0;34m,\u001b[0m\u001b[0;34m)\u001b[0m\u001b[0;34m\u001b[0m\u001b[0m\n\u001b[0;32m--> 383\u001b[0;31m     \u001b[0mshape\u001b[0m\u001b[0;34m,\u001b[0m \u001b[0mdtype\u001b[0m \u001b[0;34m=\u001b[0m \u001b[0m_check_func\u001b[0m\u001b[0;34m(\u001b[0m\u001b[0;34m'leastsq'\u001b[0m\u001b[0;34m,\u001b[0m \u001b[0;34m'func'\u001b[0m\u001b[0;34m,\u001b[0m \u001b[0mfunc\u001b[0m\u001b[0;34m,\u001b[0m \u001b[0mx0\u001b[0m\u001b[0;34m,\u001b[0m \u001b[0margs\u001b[0m\u001b[0;34m,\u001b[0m \u001b[0mn\u001b[0m\u001b[0;34m)\u001b[0m\u001b[0;34m\u001b[0m\u001b[0m\n\u001b[0m\u001b[1;32m    384\u001b[0m     \u001b[0mm\u001b[0m \u001b[0;34m=\u001b[0m \u001b[0mshape\u001b[0m\u001b[0;34m[\u001b[0m\u001b[0;36m0\u001b[0m\u001b[0;34m]\u001b[0m\u001b[0;34m\u001b[0m\u001b[0m\n\u001b[1;32m    385\u001b[0m     \u001b[0;32mif\u001b[0m \u001b[0mn\u001b[0m \u001b[0;34m>\u001b[0m \u001b[0mm\u001b[0m\u001b[0;34m:\u001b[0m\u001b[0;34m\u001b[0m\u001b[0m\n",
      "\u001b[0;32m/Library/Frameworks/Python.framework/Versions/3.7/lib/python3.7/site-packages/scipy/optimize/minpack.py\u001b[0m in \u001b[0;36m_check_func\u001b[0;34m(checker, argname, thefunc, x0, args, numinputs, output_shape)\u001b[0m\n\u001b[1;32m     25\u001b[0m def _check_func(checker, argname, thefunc, x0, args, numinputs,\n\u001b[1;32m     26\u001b[0m                 output_shape=None):\n\u001b[0;32m---> 27\u001b[0;31m     \u001b[0mres\u001b[0m \u001b[0;34m=\u001b[0m \u001b[0matleast_1d\u001b[0m\u001b[0;34m(\u001b[0m\u001b[0mthefunc\u001b[0m\u001b[0;34m(\u001b[0m\u001b[0;34m*\u001b[0m\u001b[0;34m(\u001b[0m\u001b[0;34m(\u001b[0m\u001b[0mx0\u001b[0m\u001b[0;34m[\u001b[0m\u001b[0;34m:\u001b[0m\u001b[0mnuminputs\u001b[0m\u001b[0;34m]\u001b[0m\u001b[0;34m,\u001b[0m\u001b[0;34m)\u001b[0m \u001b[0;34m+\u001b[0m \u001b[0margs\u001b[0m\u001b[0;34m)\u001b[0m\u001b[0;34m)\u001b[0m\u001b[0;34m)\u001b[0m\u001b[0;34m\u001b[0m\u001b[0m\n\u001b[0m\u001b[1;32m     28\u001b[0m     \u001b[0;32mif\u001b[0m \u001b[0;34m(\u001b[0m\u001b[0moutput_shape\u001b[0m \u001b[0;32mis\u001b[0m \u001b[0;32mnot\u001b[0m \u001b[0;32mNone\u001b[0m\u001b[0;34m)\u001b[0m \u001b[0;32mand\u001b[0m \u001b[0;34m(\u001b[0m\u001b[0mshape\u001b[0m\u001b[0;34m(\u001b[0m\u001b[0mres\u001b[0m\u001b[0;34m)\u001b[0m \u001b[0;34m!=\u001b[0m \u001b[0moutput_shape\u001b[0m\u001b[0;34m)\u001b[0m\u001b[0;34m:\u001b[0m\u001b[0;34m\u001b[0m\u001b[0m\n\u001b[1;32m     29\u001b[0m         \u001b[0;32mif\u001b[0m \u001b[0;34m(\u001b[0m\u001b[0moutput_shape\u001b[0m\u001b[0;34m[\u001b[0m\u001b[0;36m0\u001b[0m\u001b[0;34m]\u001b[0m \u001b[0;34m!=\u001b[0m \u001b[0;36m1\u001b[0m\u001b[0;34m)\u001b[0m\u001b[0;34m:\u001b[0m\u001b[0;34m\u001b[0m\u001b[0m\n",
      "\u001b[0;32m<ipython-input-81-31a43a229cd2>\u001b[0m in \u001b[0;36mg\u001b[0;34m(beta)\u001b[0m\n\u001b[1;32m      1\u001b[0m \u001b[0;31m# función residual\u001b[0m\u001b[0;34m\u001b[0m\u001b[0;34m\u001b[0m\u001b[0m\n\u001b[1;32m      2\u001b[0m \u001b[0;32mdef\u001b[0m \u001b[0mg\u001b[0m\u001b[0;34m(\u001b[0m\u001b[0mbeta\u001b[0m\u001b[0;34m)\u001b[0m\u001b[0;34m:\u001b[0m\u001b[0;34m\u001b[0m\u001b[0m\n\u001b[0;32m----> 3\u001b[0;31m     \u001b[0;32mreturn\u001b[0m \u001b[0mydata\u001b[0m \u001b[0;34m-\u001b[0m \u001b[0mf\u001b[0m\u001b[0;34m(\u001b[0m\u001b[0mxdata\u001b[0m\u001b[0;34m,\u001b[0m \u001b[0mbeta\u001b[0m\u001b[0;34m)\u001b[0m\u001b[0;34m\u001b[0m\u001b[0m\n\u001b[0m\u001b[1;32m      4\u001b[0m \u001b[0;34m\u001b[0m\u001b[0m\n\u001b[1;32m      5\u001b[0m \u001b[0;31m# comenzamos la optimización\u001b[0m\u001b[0;34m\u001b[0m\u001b[0;34m\u001b[0m\u001b[0m\n",
      "\u001b[0;31mTypeError\u001b[0m: unsupported operand type(s) for -: 'list' and 'list'"
     ]
    }
   ],
   "source": [
    "# función residual\n",
    "def g(beta):\n",
    "    return ydata - f(xdata, beta)\n",
    "\n",
    "# comenzamos la optimización\n",
    "beta_start = (1, 1, 1,1)\n",
    "beta_opt, beta_cov = optimize.leastsq(g, beta_start)\n",
    "beta_opt"
   ]
  },
  {
   "cell_type": "markdown",
   "metadata": {},
   "source": [
    "--------"
   ]
  },
  {
   "cell_type": "markdown",
   "metadata": {},
   "source": [
    "**c.** ¿Cuáles son las condiciones de operación óptimas si se desea obtener una viscosidad de 600?"
   ]
  },
  {
   "cell_type": "markdown",
   "metadata": {},
   "source": [
    "**d.** ¿Cuáles son los factores que afectan de manera significativa la viscosidad?, determine la tabla ANOVA y concluya cuál considera usted que es el cuello de botella del proceso"
   ]
  },
  {
   "cell_type": "markdown",
   "metadata": {},
   "source": [
    "**e.** Construya las superficies de respuesta para la interacción de todos los factores ¿Cuál sería el tratamiento que maximiza la viscosidad?"
   ]
  },
  {
   "cell_type": "markdown",
   "metadata": {},
   "source": [
    "**e.** Construya las superficies de respuesta para la interacción de todos los factores ¿Cuál sería el tratamiento que maximiza la viscosidad"
   ]
  },
  {
   "cell_type": "markdown",
   "metadata": {},
   "source": [
    "**e.** Construya las superficies de respuesta para la interacción de todos los factores ¿Cuál sería el tratamiento que maximiza la viscosidad"
   ]
  },
  {
   "cell_type": "markdown",
   "metadata": {},
   "source": []
  }
 ],
 "metadata": {
  "kernelspec": {
   "display_name": "Python 3",
   "language": "python",
   "name": "python3"
  },
  "language_info": {
   "codemirror_mode": {
    "name": "ipython",
    "version": 3
   },
   "file_extension": ".py",
   "mimetype": "text/x-python",
   "name": "python",
   "nbconvert_exporter": "python",
   "pygments_lexer": "ipython3",
   "version": "3.7.0"
  }
 },
 "nbformat": 4,
 "nbformat_minor": 2
}
