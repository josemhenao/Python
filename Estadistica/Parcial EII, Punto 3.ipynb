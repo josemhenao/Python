{
 "cells": [
  {
   "cell_type": "code",
   "execution_count": 122,
   "metadata": {},
   "outputs": [],
   "source": [
    "import itertools\n",
    "import numpy as np\n",
    "import pandas as pd\n",
    "import statsmodels.api as sm\n",
    "from sklearn.linear_model import LinearRegression"
   ]
  },
  {
   "cell_type": "markdown",
   "metadata": {},
   "source": [
    "Un ingeniero desea producir a escala industrial un tipo de gomina. En su planta de producción encuentra que la temperatura, la tasa de agitación y la presión son las variables que mejor explican la viscosidad de la gomina. Interesa maximizar dicha viscosidad. En las siguientes tablas se muestra la descripción del proceso:\n"
   ]
  },
  {
   "cell_type": "markdown",
   "metadata": {},
   "source": [
    "En primer lugar realizamos un diseño factorial para determinar cuales son los datos que deberiamos tener"
   ]
  },
  {
   "cell_type": "code",
   "execution_count": 106,
   "metadata": {},
   "outputs": [],
   "source": [
    "data_product = np.array(list(itertools.product([200,175,150],\n",
    "                                               [10.0,7.5,5.0],\n",
    "                                               [25,20,15]\n",
    "                                              )))"
   ]
  },
  {
   "cell_type": "code",
   "execution_count": 108,
   "metadata": {},
   "outputs": [
    {
     "data": {
      "text/plain": [
       "array([[200. ,  10. ,  25. ],\n",
       "       [200. ,  10. ,  20. ],\n",
       "       [200. ,  10. ,  15. ],\n",
       "       [200. ,   7.5,  25. ],\n",
       "       [200. ,   7.5,  20. ],\n",
       "       [200. ,   7.5,  15. ],\n",
       "       [200. ,   5. ,  25. ],\n",
       "       [200. ,   5. ,  20. ],\n",
       "       [200. ,   5. ,  15. ],\n",
       "       [175. ,  10. ,  25. ],\n",
       "       [175. ,  10. ,  20. ],\n",
       "       [175. ,  10. ,  15. ],\n",
       "       [175. ,   7.5,  25. ],\n",
       "       [175. ,   7.5,  20. ],\n",
       "       [175. ,   7.5,  15. ],\n",
       "       [175. ,   5. ,  25. ],\n",
       "       [175. ,   5. ,  20. ],\n",
       "       [175. ,   5. ,  15. ],\n",
       "       [150. ,  10. ,  25. ],\n",
       "       [150. ,  10. ,  20. ],\n",
       "       [150. ,  10. ,  15. ],\n",
       "       [150. ,   7.5,  25. ],\n",
       "       [150. ,   7.5,  20. ],\n",
       "       [150. ,   7.5,  15. ],\n",
       "       [150. ,   5. ,  25. ],\n",
       "       [150. ,   5. ,  20. ],\n",
       "       [150. ,   5. ,  15. ]])"
      ]
     },
     "execution_count": 108,
     "metadata": {},
     "output_type": "execute_result"
    }
   ],
   "source": [
    "data_product"
   ]
  },
  {
   "cell_type": "code",
   "execution_count": 107,
   "metadata": {},
   "outputs": [
    {
     "data": {
      "text/plain": [
       "(27, 3)"
      ]
     },
     "execution_count": 107,
     "metadata": {},
     "output_type": "execute_result"
    }
   ],
   "source": [
    "data_product.shape"
   ]
  },
  {
   "cell_type": "markdown",
   "metadata": {},
   "source": [
    "Al tener tres parametros cada uno con tres niveles se deben obtener $3^3 = 27$ corridas en las experimentaciones"
   ]
  },
  {
   "cell_type": "code",
   "execution_count": 110,
   "metadata": {},
   "outputs": [],
   "source": [
    "# Cargamos los datos entregados\n",
    "df = pd.read_csv('datasets/parcial_E-II.csv')"
   ]
  },
  {
   "cell_type": "markdown",
   "metadata": {},
   "source": [
    "Los datos entregados en el problema estában organizados de modo que por cada nivel de se reemplazan los valores con -1, 0 y 1; para poder hallar mas adelante un modelo certero debemos trabajarlos con los datos reales, los cuales toman valores contínuos y no discretos como están factorizados"
   ]
  },
  {
   "cell_type": "markdown",
   "metadata": {},
   "source": [
    "**a.** Para este diseño se utilizó una metodología de Box and Behnken: utilizando R proponga la matriz del diseño e incluya la variable de respuesta viscosidad con los valores reales"
   ]
  },
  {
   "cell_type": "markdown",
   "metadata": {},
   "source": [
    "**Solución**"
   ]
  },
  {
   "cell_type": "markdown",
   "metadata": {},
   "source": [
    "Mostramos los valores ordenados entre sí por los niveles de las caracteristicas"
   ]
  },
  {
   "cell_type": "code",
   "execution_count": 116,
   "metadata": {},
   "outputs": [
    {
     "data": {
      "text/html": [
       "<div>\n",
       "<style scoped>\n",
       "    .dataframe tbody tr th:only-of-type {\n",
       "        vertical-align: middle;\n",
       "    }\n",
       "\n",
       "    .dataframe tbody tr th {\n",
       "        vertical-align: top;\n",
       "    }\n",
       "\n",
       "    .dataframe thead th {\n",
       "        text-align: right;\n",
       "    }\n",
       "</style>\n",
       "<table border=\"1\" class=\"dataframe\">\n",
       "  <thead>\n",
       "    <tr style=\"text-align: right;\">\n",
       "      <th></th>\n",
       "      <th>Corrida</th>\n",
       "      <th>X1</th>\n",
       "      <th>X2</th>\n",
       "      <th>X3</th>\n",
       "      <th>Viscosidad</th>\n",
       "    </tr>\n",
       "  </thead>\n",
       "  <tbody>\n",
       "    <tr>\n",
       "      <th>0</th>\n",
       "      <td>1</td>\n",
       "      <td>150</td>\n",
       "      <td>5.0</td>\n",
       "      <td>20</td>\n",
       "      <td>537.66</td>\n",
       "    </tr>\n",
       "    <tr>\n",
       "      <th>4</th>\n",
       "      <td>5</td>\n",
       "      <td>150</td>\n",
       "      <td>7.5</td>\n",
       "      <td>15</td>\n",
       "      <td>647.66</td>\n",
       "    </tr>\n",
       "    <tr>\n",
       "      <th>6</th>\n",
       "      <td>7</td>\n",
       "      <td>150</td>\n",
       "      <td>7.5</td>\n",
       "      <td>25</td>\n",
       "      <td>352.66</td>\n",
       "    </tr>\n",
       "    <tr>\n",
       "      <th>2</th>\n",
       "      <td>3</td>\n",
       "      <td>150</td>\n",
       "      <td>10.0</td>\n",
       "      <td>20</td>\n",
       "      <td>598.66</td>\n",
       "    </tr>\n",
       "    <tr>\n",
       "      <th>8</th>\n",
       "      <td>9</td>\n",
       "      <td>175</td>\n",
       "      <td>5.0</td>\n",
       "      <td>15</td>\n",
       "      <td>597.66</td>\n",
       "    </tr>\n",
       "    <tr>\n",
       "      <th>10</th>\n",
       "      <td>11</td>\n",
       "      <td>175</td>\n",
       "      <td>5.0</td>\n",
       "      <td>25</td>\n",
       "      <td>534.66</td>\n",
       "    </tr>\n",
       "    <tr>\n",
       "      <th>12</th>\n",
       "      <td>13</td>\n",
       "      <td>175</td>\n",
       "      <td>7.5</td>\n",
       "      <td>20</td>\n",
       "      <td>654.66</td>\n",
       "    </tr>\n",
       "    <tr>\n",
       "      <th>13</th>\n",
       "      <td>14</td>\n",
       "      <td>175</td>\n",
       "      <td>7.5</td>\n",
       "      <td>20</td>\n",
       "      <td>601.66</td>\n",
       "    </tr>\n",
       "    <tr>\n",
       "      <th>14</th>\n",
       "      <td>15</td>\n",
       "      <td>175</td>\n",
       "      <td>7.5</td>\n",
       "      <td>20</td>\n",
       "      <td>622.66</td>\n",
       "    </tr>\n",
       "    <tr>\n",
       "      <th>9</th>\n",
       "      <td>10</td>\n",
       "      <td>175</td>\n",
       "      <td>10.0</td>\n",
       "      <td>15</td>\n",
       "      <td>650.66</td>\n",
       "    </tr>\n",
       "    <tr>\n",
       "      <th>11</th>\n",
       "      <td>12</td>\n",
       "      <td>175</td>\n",
       "      <td>10.0</td>\n",
       "      <td>25</td>\n",
       "      <td>658.66</td>\n",
       "    </tr>\n",
       "    <tr>\n",
       "      <th>1</th>\n",
       "      <td>2</td>\n",
       "      <td>200</td>\n",
       "      <td>5.0</td>\n",
       "      <td>20</td>\n",
       "      <td>582.66</td>\n",
       "    </tr>\n",
       "    <tr>\n",
       "      <th>5</th>\n",
       "      <td>6</td>\n",
       "      <td>200</td>\n",
       "      <td>7.5</td>\n",
       "      <td>15</td>\n",
       "      <td>460.66</td>\n",
       "    </tr>\n",
       "    <tr>\n",
       "      <th>7</th>\n",
       "      <td>8</td>\n",
       "      <td>200</td>\n",
       "      <td>7.5</td>\n",
       "      <td>25</td>\n",
       "      <td>602.66</td>\n",
       "    </tr>\n",
       "    <tr>\n",
       "      <th>3</th>\n",
       "      <td>4</td>\n",
       "      <td>200</td>\n",
       "      <td>10.0</td>\n",
       "      <td>20</td>\n",
       "      <td>565.66</td>\n",
       "    </tr>\n",
       "  </tbody>\n",
       "</table>\n",
       "</div>"
      ],
      "text/plain": [
       "    Corrida   X1    X2  X3  Viscosidad\n",
       "0         1  150   5.0  20      537.66\n",
       "4         5  150   7.5  15      647.66\n",
       "6         7  150   7.5  25      352.66\n",
       "2         3  150  10.0  20      598.66\n",
       "8         9  175   5.0  15      597.66\n",
       "10       11  175   5.0  25      534.66\n",
       "12       13  175   7.5  20      654.66\n",
       "13       14  175   7.5  20      601.66\n",
       "14       15  175   7.5  20      622.66\n",
       "9        10  175  10.0  15      650.66\n",
       "11       12  175  10.0  25      658.66\n",
       "1         2  200   5.0  20      582.66\n",
       "5         6  200   7.5  15      460.66\n",
       "7         8  200   7.5  25      602.66\n",
       "3         4  200  10.0  20      565.66"
      ]
     },
     "execution_count": 116,
     "metadata": {},
     "output_type": "execute_result"
    }
   ],
   "source": [
    "df.sort_values(['X1','X2','X3'])"
   ]
  },
  {
   "cell_type": "code",
   "execution_count": 115,
   "metadata": {},
   "outputs": [
    {
     "data": {
      "text/plain": [
       "(15, 5)"
      ]
     },
     "execution_count": 115,
     "metadata": {},
     "output_type": "execute_result"
    }
   ],
   "source": [
    "df.shape"
   ]
  },
  {
   "cell_type": "markdown",
   "metadata": {},
   "source": [
    "Con las medidas de éste dataframe de entrada podemos decir que faltan corridas por evaluar, ya que tenemos sólo 15 cuando deberíamos tener 27"
   ]
  },
  {
   "cell_type": "markdown",
   "metadata": {},
   "source": [
    "--------------------------------------------------------------"
   ]
  },
  {
   "cell_type": "code",
   "execution_count": 86,
   "metadata": {},
   "outputs": [],
   "source": [
    "model = sm.OLS(df['Viscosidad'].values, df.drop(['Viscosidad','Corrida'],axis = 1), hasconst=True).fit()"
   ]
  },
  {
   "cell_type": "code",
   "execution_count": 87,
   "metadata": {},
   "outputs": [
    {
     "name": "stderr",
     "output_type": "stream",
     "text": [
      "/Library/Frameworks/Python.framework/Versions/3.7/lib/python3.7/site-packages/scipy/stats/stats.py:1394: UserWarning: kurtosistest only valid for n>=20 ... continuing anyway, n=15\n",
      "  \"anyway, n=%i\" % int(n))\n"
     ]
    },
    {
     "data": {
      "text/html": [
       "<table class=\"simpletable\">\n",
       "<caption>OLS Regression Results</caption>\n",
       "<tr>\n",
       "  <th>Dep. Variable:</th>            <td>y</td>        <th>  R-squared:         </th> <td>  -0.193</td>\n",
       "</tr>\n",
       "<tr>\n",
       "  <th>Model:</th>                   <td>OLS</td>       <th>  Adj. R-squared:    </th> <td>  -0.392</td>\n",
       "</tr>\n",
       "<tr>\n",
       "  <th>Method:</th>             <td>Least Squares</td>  <th>  F-statistic:       </th> <td> -0.9727</td>\n",
       "</tr>\n",
       "<tr>\n",
       "  <th>Date:</th>             <td>Sun, 04 Nov 2018</td> <th>  Prob (F-statistic):</th>  <td>  1.00</td> \n",
       "</tr>\n",
       "<tr>\n",
       "  <th>Time:</th>                 <td>21:15:04</td>     <th>  Log-Likelihood:    </th> <td> -88.240</td>\n",
       "</tr>\n",
       "<tr>\n",
       "  <th>No. Observations:</th>      <td>    15</td>      <th>  AIC:               </th> <td>   182.5</td>\n",
       "</tr>\n",
       "<tr>\n",
       "  <th>Df Residuals:</th>          <td>    12</td>      <th>  BIC:               </th> <td>   184.6</td>\n",
       "</tr>\n",
       "<tr>\n",
       "  <th>Df Model:</th>              <td>     2</td>      <th>                     </th>     <td> </td>   \n",
       "</tr>\n",
       "<tr>\n",
       "  <th>Covariance Type:</th>      <td>nonrobust</td>    <th>                     </th>     <td> </td>   \n",
       "</tr>\n",
       "</table>\n",
       "<table class=\"simpletable\">\n",
       "<tr>\n",
       "   <td></td>     <th>coef</th>     <th>std err</th>      <th>t</th>      <th>P>|t|</th>  <th>[0.025</th>    <th>0.975]</th>  \n",
       "</tr>\n",
       "<tr>\n",
       "  <th>X1</th> <td>    2.3789</td> <td>    0.803</td> <td>    2.961</td> <td> 0.012</td> <td>    0.629</td> <td>    4.129</td>\n",
       "</tr>\n",
       "<tr>\n",
       "  <th>X2</th> <td>   19.6383</td> <td>   12.871</td> <td>    1.526</td> <td> 0.153</td> <td>   -8.404</td> <td>   47.681</td>\n",
       "</tr>\n",
       "<tr>\n",
       "  <th>X3</th> <td>    0.5255</td> <td>    6.082</td> <td>    0.086</td> <td> 0.933</td> <td>  -12.726</td> <td>   13.777</td>\n",
       "</tr>\n",
       "</table>\n",
       "<table class=\"simpletable\">\n",
       "<tr>\n",
       "  <th>Omnibus:</th>       <td> 2.827</td> <th>  Durbin-Watson:     </th> <td>   1.992</td>\n",
       "</tr>\n",
       "<tr>\n",
       "  <th>Prob(Omnibus):</th> <td> 0.243</td> <th>  Jarque-Bera (JB):  </th> <td>   1.826</td>\n",
       "</tr>\n",
       "<tr>\n",
       "  <th>Skew:</th>          <td>-0.845</td> <th>  Prob(JB):          </th> <td>   0.401</td>\n",
       "</tr>\n",
       "<tr>\n",
       "  <th>Kurtosis:</th>      <td> 2.745</td> <th>  Cond. No.          </th> <td>    91.5</td>\n",
       "</tr>\n",
       "</table><br/><br/>Warnings:<br/>[1] Standard Errors assume that the covariance matrix of the errors is correctly specified."
      ],
      "text/plain": [
       "<class 'statsmodels.iolib.summary.Summary'>\n",
       "\"\"\"\n",
       "                            OLS Regression Results                            \n",
       "==============================================================================\n",
       "Dep. Variable:                      y   R-squared:                      -0.193\n",
       "Model:                            OLS   Adj. R-squared:                 -0.392\n",
       "Method:                 Least Squares   F-statistic:                   -0.9727\n",
       "Date:                Sun, 04 Nov 2018   Prob (F-statistic):               1.00\n",
       "Time:                        21:15:04   Log-Likelihood:                -88.240\n",
       "No. Observations:                  15   AIC:                             182.5\n",
       "Df Residuals:                      12   BIC:                             184.6\n",
       "Df Model:                           2                                         \n",
       "Covariance Type:            nonrobust                                         \n",
       "==============================================================================\n",
       "                 coef    std err          t      P>|t|      [0.025      0.975]\n",
       "------------------------------------------------------------------------------\n",
       "X1             2.3789      0.803      2.961      0.012       0.629       4.129\n",
       "X2            19.6383     12.871      1.526      0.153      -8.404      47.681\n",
       "X3             0.5255      6.082      0.086      0.933     -12.726      13.777\n",
       "==============================================================================\n",
       "Omnibus:                        2.827   Durbin-Watson:                   1.992\n",
       "Prob(Omnibus):                  0.243   Jarque-Bera (JB):                1.826\n",
       "Skew:                          -0.845   Prob(JB):                        0.401\n",
       "Kurtosis:                       2.745   Cond. No.                         91.5\n",
       "==============================================================================\n",
       "\n",
       "Warnings:\n",
       "[1] Standard Errors assume that the covariance matrix of the errors is correctly specified.\n",
       "\"\"\""
      ]
     },
     "execution_count": 87,
     "metadata": {},
     "output_type": "execute_result"
    }
   ],
   "source": [
    "model.summary()"
   ]
  },
  {
   "cell_type": "code",
   "execution_count": 88,
   "metadata": {},
   "outputs": [],
   "source": [
    "# Modelo\n",
    "f = lambda a,b,c : a*2.3789+b*19.6383 +c*0.5255"
   ]
  },
  {
   "cell_type": "code",
   "execution_count": 94,
   "metadata": {},
   "outputs": [
    {
     "data": {
      "text/plain": [
       "584.4815"
      ]
     },
     "execution_count": 94,
     "metadata": {},
     "output_type": "execute_result"
    }
   ],
   "source": [
    "f(200,5.0,20)"
   ]
  },
  {
   "cell_type": "code",
   "execution_count": 93,
   "metadata": {},
   "outputs": [
    {
     "data": {
      "text/plain": [
       "array([465.54078712])"
      ]
     },
     "execution_count": 93,
     "metadata": {},
     "output_type": "execute_result"
    }
   ],
   "source": [
    "model.predict([150, 5, 20])"
   ]
  },
  {
   "cell_type": "code",
   "execution_count": 117,
   "metadata": {},
   "outputs": [
    {
     "data": {
      "text/html": [
       "<div>\n",
       "<style scoped>\n",
       "    .dataframe tbody tr th:only-of-type {\n",
       "        vertical-align: middle;\n",
       "    }\n",
       "\n",
       "    .dataframe tbody tr th {\n",
       "        vertical-align: top;\n",
       "    }\n",
       "\n",
       "    .dataframe thead th {\n",
       "        text-align: right;\n",
       "    }\n",
       "</style>\n",
       "<table border=\"1\" class=\"dataframe\">\n",
       "  <thead>\n",
       "    <tr style=\"text-align: right;\">\n",
       "      <th></th>\n",
       "      <th>Corrida</th>\n",
       "      <th>X1</th>\n",
       "      <th>X2</th>\n",
       "      <th>X3</th>\n",
       "      <th>Viscosidad</th>\n",
       "    </tr>\n",
       "  </thead>\n",
       "  <tbody>\n",
       "    <tr>\n",
       "      <th>0</th>\n",
       "      <td>1</td>\n",
       "      <td>150</td>\n",
       "      <td>5.0</td>\n",
       "      <td>20</td>\n",
       "      <td>537.66</td>\n",
       "    </tr>\n",
       "    <tr>\n",
       "      <th>1</th>\n",
       "      <td>2</td>\n",
       "      <td>200</td>\n",
       "      <td>5.0</td>\n",
       "      <td>20</td>\n",
       "      <td>582.66</td>\n",
       "    </tr>\n",
       "    <tr>\n",
       "      <th>2</th>\n",
       "      <td>3</td>\n",
       "      <td>150</td>\n",
       "      <td>10.0</td>\n",
       "      <td>20</td>\n",
       "      <td>598.66</td>\n",
       "    </tr>\n",
       "    <tr>\n",
       "      <th>3</th>\n",
       "      <td>4</td>\n",
       "      <td>200</td>\n",
       "      <td>10.0</td>\n",
       "      <td>20</td>\n",
       "      <td>565.66</td>\n",
       "    </tr>\n",
       "    <tr>\n",
       "      <th>4</th>\n",
       "      <td>5</td>\n",
       "      <td>150</td>\n",
       "      <td>7.5</td>\n",
       "      <td>15</td>\n",
       "      <td>647.66</td>\n",
       "    </tr>\n",
       "    <tr>\n",
       "      <th>5</th>\n",
       "      <td>6</td>\n",
       "      <td>200</td>\n",
       "      <td>7.5</td>\n",
       "      <td>15</td>\n",
       "      <td>460.66</td>\n",
       "    </tr>\n",
       "    <tr>\n",
       "      <th>6</th>\n",
       "      <td>7</td>\n",
       "      <td>150</td>\n",
       "      <td>7.5</td>\n",
       "      <td>25</td>\n",
       "      <td>352.66</td>\n",
       "    </tr>\n",
       "    <tr>\n",
       "      <th>7</th>\n",
       "      <td>8</td>\n",
       "      <td>200</td>\n",
       "      <td>7.5</td>\n",
       "      <td>25</td>\n",
       "      <td>602.66</td>\n",
       "    </tr>\n",
       "    <tr>\n",
       "      <th>8</th>\n",
       "      <td>9</td>\n",
       "      <td>175</td>\n",
       "      <td>5.0</td>\n",
       "      <td>15</td>\n",
       "      <td>597.66</td>\n",
       "    </tr>\n",
       "    <tr>\n",
       "      <th>9</th>\n",
       "      <td>10</td>\n",
       "      <td>175</td>\n",
       "      <td>10.0</td>\n",
       "      <td>15</td>\n",
       "      <td>650.66</td>\n",
       "    </tr>\n",
       "    <tr>\n",
       "      <th>10</th>\n",
       "      <td>11</td>\n",
       "      <td>175</td>\n",
       "      <td>5.0</td>\n",
       "      <td>25</td>\n",
       "      <td>534.66</td>\n",
       "    </tr>\n",
       "    <tr>\n",
       "      <th>11</th>\n",
       "      <td>12</td>\n",
       "      <td>175</td>\n",
       "      <td>10.0</td>\n",
       "      <td>25</td>\n",
       "      <td>658.66</td>\n",
       "    </tr>\n",
       "    <tr>\n",
       "      <th>12</th>\n",
       "      <td>13</td>\n",
       "      <td>175</td>\n",
       "      <td>7.5</td>\n",
       "      <td>20</td>\n",
       "      <td>654.66</td>\n",
       "    </tr>\n",
       "    <tr>\n",
       "      <th>13</th>\n",
       "      <td>14</td>\n",
       "      <td>175</td>\n",
       "      <td>7.5</td>\n",
       "      <td>20</td>\n",
       "      <td>601.66</td>\n",
       "    </tr>\n",
       "    <tr>\n",
       "      <th>14</th>\n",
       "      <td>15</td>\n",
       "      <td>175</td>\n",
       "      <td>7.5</td>\n",
       "      <td>20</td>\n",
       "      <td>622.66</td>\n",
       "    </tr>\n",
       "  </tbody>\n",
       "</table>\n",
       "</div>"
      ],
      "text/plain": [
       "    Corrida   X1    X2  X3  Viscosidad\n",
       "0         1  150   5.0  20      537.66\n",
       "1         2  200   5.0  20      582.66\n",
       "2         3  150  10.0  20      598.66\n",
       "3         4  200  10.0  20      565.66\n",
       "4         5  150   7.5  15      647.66\n",
       "5         6  200   7.5  15      460.66\n",
       "6         7  150   7.5  25      352.66\n",
       "7         8  200   7.5  25      602.66\n",
       "8         9  175   5.0  15      597.66\n",
       "9        10  175  10.0  15      650.66\n",
       "10       11  175   5.0  25      534.66\n",
       "11       12  175  10.0  25      658.66\n",
       "12       13  175   7.5  20      654.66\n",
       "13       14  175   7.5  20      601.66\n",
       "14       15  175   7.5  20      622.66"
      ]
     },
     "execution_count": 117,
     "metadata": {},
     "output_type": "execute_result"
    }
   ],
   "source": [
    "df"
   ]
  },
  {
   "cell_type": "code",
   "execution_count": 133,
   "metadata": {},
   "outputs": [
    {
     "data": {
      "text/plain": [
       "LinearRegression(copy_X=True, fit_intercept=True, n_jobs=None,\n",
       "         normalize=False)"
      ]
     },
     "execution_count": 133,
     "metadata": {},
     "output_type": "execute_result"
    }
   ],
   "source": [
    "model_skl = LinearRegression()\n",
    "model_skl.fit(df.drop(['Viscosidad','Corrida'], axis=1),df['Viscosidad'])"
   ]
  },
  {
   "cell_type": "code",
   "execution_count": 139,
   "metadata": {
    "scrolled": true
   },
   "outputs": [
    {
     "name": "stdout",
     "output_type": "stream",
     "text": [
      "[ 0.375 11.05  -5.2  ]\n",
      "533.4266666666666\n"
     ]
    }
   ],
   "source": [
    "print(model_skl.coef_)\n",
    "print(model_skl.intercept_)"
   ]
  },
  {
   "cell_type": "code",
   "execution_count": 142,
   "metadata": {},
   "outputs": [],
   "source": [
    "f_skl = lambda a,b,c: a*0.375 + b*11.05 + c*(-5.2) + 533.4266666666666"
   ]
  },
  {
   "cell_type": "code",
   "execution_count": 143,
   "metadata": {},
   "outputs": [
    {
     "data": {
      "text/plain": [
       "540.9266666666666"
      ]
     },
     "execution_count": 143,
     "metadata": {},
     "output_type": "execute_result"
    }
   ],
   "source": [
    "f_skl(150, 5, 20)"
   ]
  },
  {
   "cell_type": "code",
   "execution_count": 144,
   "metadata": {},
   "outputs": [
    {
     "data": {
      "text/plain": [
       "array([540.92666667])"
      ]
     },
     "execution_count": 144,
     "metadata": {},
     "output_type": "execute_result"
    }
   ],
   "source": [
    "model_skl.predict([[150, 5, 20]])"
   ]
  },
  {
   "cell_type": "code",
   "execution_count": null,
   "metadata": {},
   "outputs": [],
   "source": []
  }
 ],
 "metadata": {
  "kernelspec": {
   "display_name": "Python 3",
   "language": "python",
   "name": "python3"
  },
  "language_info": {
   "codemirror_mode": {
    "name": "ipython",
    "version": 3
   },
   "file_extension": ".py",
   "mimetype": "text/x-python",
   "name": "python",
   "nbconvert_exporter": "python",
   "pygments_lexer": "ipython3",
   "version": "3.7.0"
  }
 },
 "nbformat": 4,
 "nbformat_minor": 2
}
