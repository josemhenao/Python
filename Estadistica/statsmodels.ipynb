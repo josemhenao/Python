{
 "cells": [
  {
   "cell_type": "code",
   "execution_count": 2,
   "metadata": {},
   "outputs": [],
   "source": [
    "import numpy as np\n",
    "import statsmodels.api as sm\n",
    "import pandas as pd"
   ]
  },
  {
   "cell_type": "code",
   "execution_count": 10,
   "metadata": {},
   "outputs": [
    {
     "data": {
      "text/plain": [
       "array([[ 2.66, 20.  ,  0.  ,  1.  ],\n",
       "       [ 2.89, 22.  ,  0.  ,  1.  ],\n",
       "       [ 3.28, 24.  ,  0.  ,  1.  ],\n",
       "       [ 2.92, 12.  ,  0.  ,  1.  ],\n",
       "       [ 4.  , 21.  ,  0.  ,  1.  ],\n",
       "       [ 2.86, 17.  ,  0.  ,  1.  ],\n",
       "       [ 2.76, 17.  ,  0.  ,  1.  ],\n",
       "       [ 2.87, 21.  ,  0.  ,  1.  ],\n",
       "       [ 3.03, 25.  ,  0.  ,  1.  ],\n",
       "       [ 3.92, 29.  ,  0.  ,  1.  ],\n",
       "       [ 2.63, 20.  ,  0.  ,  1.  ],\n",
       "       [ 3.32, 23.  ,  0.  ,  1.  ],\n",
       "       [ 3.57, 23.  ,  0.  ,  1.  ],\n",
       "       [ 3.26, 25.  ,  0.  ,  1.  ],\n",
       "       [ 3.53, 26.  ,  0.  ,  1.  ],\n",
       "       [ 2.74, 19.  ,  0.  ,  1.  ],\n",
       "       [ 2.75, 25.  ,  0.  ,  1.  ],\n",
       "       [ 2.83, 19.  ,  0.  ,  1.  ],\n",
       "       [ 3.12, 23.  ,  1.  ,  1.  ],\n",
       "       [ 3.16, 25.  ,  1.  ,  1.  ],\n",
       "       [ 2.06, 22.  ,  1.  ,  1.  ],\n",
       "       [ 3.62, 28.  ,  1.  ,  1.  ],\n",
       "       [ 2.89, 14.  ,  1.  ,  1.  ],\n",
       "       [ 3.51, 26.  ,  1.  ,  1.  ],\n",
       "       [ 3.54, 24.  ,  1.  ,  1.  ],\n",
       "       [ 2.83, 27.  ,  1.  ,  1.  ],\n",
       "       [ 3.39, 17.  ,  1.  ,  1.  ],\n",
       "       [ 2.67, 24.  ,  1.  ,  1.  ],\n",
       "       [ 3.65, 21.  ,  1.  ,  1.  ],\n",
       "       [ 4.  , 23.  ,  1.  ,  1.  ],\n",
       "       [ 3.1 , 21.  ,  1.  ,  1.  ],\n",
       "       [ 2.39, 19.  ,  1.  ,  1.  ]])"
      ]
     },
     "execution_count": 10,
     "metadata": {},
     "output_type": "execute_result"
    }
   ],
   "source": [
    "spector_data = sm.datasets.spector.load()\n",
    "spector_data.exog = sm.add_constant(spector_data.exog, prepend=False)\n",
    "spector_data.exog"
   ]
  },
  {
   "cell_type": "code",
   "execution_count": 15,
   "metadata": {},
   "outputs": [
    {
     "data": {
      "text/plain": [
       "<bound method RegressionModel.fit of <statsmodels.regression.linear_model.OLS object at 0x1171af3c8>>"
      ]
     },
     "execution_count": 15,
     "metadata": {},
     "output_type": "execute_result"
    }
   ],
   "source": [
    "# Fit and summarize OLS model\n",
    "mod = sm.OLS(spector_data.endog, spector_data.exog)\n",
    "mod.fit"
   ]
  },
  {
   "cell_type": "code",
   "execution_count": 16,
   "metadata": {},
   "outputs": [
    {
     "data": {
      "text/html": [
       "<table class=\"simpletable\">\n",
       "<caption>OLS Regression Results</caption>\n",
       "<tr>\n",
       "  <th>Dep. Variable:</th>            <td>y</td>        <th>  R-squared:         </th> <td>   0.416</td>\n",
       "</tr>\n",
       "<tr>\n",
       "  <th>Model:</th>                   <td>OLS</td>       <th>  Adj. R-squared:    </th> <td>   0.353</td>\n",
       "</tr>\n",
       "<tr>\n",
       "  <th>Method:</th>             <td>Least Squares</td>  <th>  F-statistic:       </th> <td>   6.646</td>\n",
       "</tr>\n",
       "<tr>\n",
       "  <th>Date:</th>             <td>Wed, 17 Oct 2018</td> <th>  Prob (F-statistic):</th>  <td>0.00157</td>\n",
       "</tr>\n",
       "<tr>\n",
       "  <th>Time:</th>                 <td>23:17:49</td>     <th>  Log-Likelihood:    </th> <td> -12.978</td>\n",
       "</tr>\n",
       "<tr>\n",
       "  <th>No. Observations:</th>      <td>    32</td>      <th>  AIC:               </th> <td>   33.96</td>\n",
       "</tr>\n",
       "<tr>\n",
       "  <th>Df Residuals:</th>          <td>    28</td>      <th>  BIC:               </th> <td>   39.82</td>\n",
       "</tr>\n",
       "<tr>\n",
       "  <th>Df Model:</th>              <td>     3</td>      <th>                     </th>     <td> </td>   \n",
       "</tr>\n",
       "<tr>\n",
       "  <th>Covariance Type:</th>      <td>nonrobust</td>    <th>                     </th>     <td> </td>   \n",
       "</tr>\n",
       "</table>\n",
       "<table class=\"simpletable\">\n",
       "<tr>\n",
       "    <td></td>       <th>coef</th>     <th>std err</th>      <th>t</th>      <th>P>|t|</th>  <th>[0.025</th>    <th>0.975]</th>  \n",
       "</tr>\n",
       "<tr>\n",
       "  <th>x1</th>    <td>    0.4639</td> <td>    0.162</td> <td>    2.864</td> <td> 0.008</td> <td>    0.132</td> <td>    0.796</td>\n",
       "</tr>\n",
       "<tr>\n",
       "  <th>x2</th>    <td>    0.0105</td> <td>    0.019</td> <td>    0.539</td> <td> 0.594</td> <td>   -0.029</td> <td>    0.050</td>\n",
       "</tr>\n",
       "<tr>\n",
       "  <th>x3</th>    <td>    0.3786</td> <td>    0.139</td> <td>    2.720</td> <td> 0.011</td> <td>    0.093</td> <td>    0.664</td>\n",
       "</tr>\n",
       "<tr>\n",
       "  <th>const</th> <td>   -1.4980</td> <td>    0.524</td> <td>   -2.859</td> <td> 0.008</td> <td>   -2.571</td> <td>   -0.425</td>\n",
       "</tr>\n",
       "</table>\n",
       "<table class=\"simpletable\">\n",
       "<tr>\n",
       "  <th>Omnibus:</th>       <td> 0.176</td> <th>  Durbin-Watson:     </th> <td>   2.346</td>\n",
       "</tr>\n",
       "<tr>\n",
       "  <th>Prob(Omnibus):</th> <td> 0.916</td> <th>  Jarque-Bera (JB):  </th> <td>   0.167</td>\n",
       "</tr>\n",
       "<tr>\n",
       "  <th>Skew:</th>          <td> 0.141</td> <th>  Prob(JB):          </th> <td>   0.920</td>\n",
       "</tr>\n",
       "<tr>\n",
       "  <th>Kurtosis:</th>      <td> 2.786</td> <th>  Cond. No.          </th> <td>    176.</td>\n",
       "</tr>\n",
       "</table><br/><br/>Warnings:<br/>[1] Standard Errors assume that the covariance matrix of the errors is correctly specified."
      ],
      "text/plain": [
       "<class 'statsmodels.iolib.summary.Summary'>\n",
       "\"\"\"\n",
       "                            OLS Regression Results                            \n",
       "==============================================================================\n",
       "Dep. Variable:                      y   R-squared:                       0.416\n",
       "Model:                            OLS   Adj. R-squared:                  0.353\n",
       "Method:                 Least Squares   F-statistic:                     6.646\n",
       "Date:                Wed, 17 Oct 2018   Prob (F-statistic):            0.00157\n",
       "Time:                        23:17:49   Log-Likelihood:                -12.978\n",
       "No. Observations:                  32   AIC:                             33.96\n",
       "Df Residuals:                      28   BIC:                             39.82\n",
       "Df Model:                           3                                         \n",
       "Covariance Type:            nonrobust                                         \n",
       "==============================================================================\n",
       "                 coef    std err          t      P>|t|      [0.025      0.975]\n",
       "------------------------------------------------------------------------------\n",
       "x1             0.4639      0.162      2.864      0.008       0.132       0.796\n",
       "x2             0.0105      0.019      0.539      0.594      -0.029       0.050\n",
       "x3             0.3786      0.139      2.720      0.011       0.093       0.664\n",
       "const         -1.4980      0.524     -2.859      0.008      -2.571      -0.425\n",
       "==============================================================================\n",
       "Omnibus:                        0.176   Durbin-Watson:                   2.346\n",
       "Prob(Omnibus):                  0.916   Jarque-Bera (JB):                0.167\n",
       "Skew:                           0.141   Prob(JB):                        0.920\n",
       "Kurtosis:                       2.786   Cond. No.                         176.\n",
       "==============================================================================\n",
       "\n",
       "Warnings:\n",
       "[1] Standard Errors assume that the covariance matrix of the errors is correctly specified.\n",
       "\"\"\""
      ]
     },
     "execution_count": 16,
     "metadata": {},
     "output_type": "execute_result"
    }
   ],
   "source": [
    "res = mod.fit()\n",
    "res.summary()"
   ]
  },
  {
   "cell_type": "code",
   "execution_count": 21,
   "metadata": {},
   "outputs": [
    {
     "name": "stdout",
     "output_type": "stream",
     "text": [
      "Help on module statsmodels.api in statsmodels:\n",
      "\n",
      "NAME\n",
      "    statsmodels.api - Statistical models\n",
      "\n",
      "DESCRIPTION\n",
      "     - standard `regression` models\n",
      "    \n",
      "      - `GLS` (generalized least squares regression)\n",
      "      - `OLS` (ordinary least square regression)\n",
      "      - `WLS` (weighted least square regression)\n",
      "      - `GLASAR` (GLS with autoregressive errors model)\n",
      "    \n",
      "     - `GLM` (generalized linear models)\n",
      "     - robust statistical models\n",
      "    \n",
      "      - `RLM` (robust linear models using M estimators)\n",
      "      - `robust.norms` estimates\n",
      "      - `robust.scale` estimates (MAD, Huber's proposal 2).\n",
      "     - sandbox models\n",
      "      - `mixed` effects models\n",
      "      - `gam` (generalized additive models)\n",
      "\n",
      "DATA\n",
      "    test = <statsmodels.__init__.PytestTester object>\n",
      "\n",
      "FILE\n",
      "    /Library/Frameworks/Python.framework/Versions/3.7/lib/python3.7/site-packages/statsmodels/api.py\n",
      "\n",
      "\n"
     ]
    }
   ],
   "source": [
    "help(sm)"
   ]
  },
  {
   "cell_type": "code",
   "execution_count": null,
   "metadata": {},
   "outputs": [],
   "source": []
  }
 ],
 "metadata": {
  "kernelspec": {
   "display_name": "Python 3",
   "language": "python",
   "name": "python3"
  },
  "language_info": {
   "codemirror_mode": {
    "name": "ipython",
    "version": 3
   },
   "file_extension": ".py",
   "mimetype": "text/x-python",
   "name": "python",
   "nbconvert_exporter": "python",
   "pygments_lexer": "ipython3",
   "version": "3.7.0"
  }
 },
 "nbformat": 4,
 "nbformat_minor": 2
}
