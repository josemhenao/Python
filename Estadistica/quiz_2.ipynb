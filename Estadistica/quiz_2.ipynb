{
 "cells": [
  {
   "cell_type": "markdown",
   "metadata": {},
   "source": [
    "## Quiz 2 de Estadística"
   ]
  },
  {
   "cell_type": "code",
   "execution_count": 3,
   "metadata": {},
   "outputs": [
    {
     "data": {
      "text/html": [
       "<div>\n",
       "<style scoped>\n",
       "    .dataframe tbody tr th:only-of-type {\n",
       "        vertical-align: middle;\n",
       "    }\n",
       "\n",
       "    .dataframe tbody tr th {\n",
       "        vertical-align: top;\n",
       "    }\n",
       "\n",
       "    .dataframe thead th {\n",
       "        text-align: right;\n",
       "    }\n",
       "</style>\n",
       "<table border=\"1\" class=\"dataframe\">\n",
       "  <thead>\n",
       "    <tr style=\"text-align: right;\">\n",
       "      <th></th>\n",
       "      <th>maquina_a</th>\n",
       "      <th>maquina_b</th>\n",
       "    </tr>\n",
       "  </thead>\n",
       "  <tbody>\n",
       "    <tr>\n",
       "      <th>0</th>\n",
       "      <td>199.2</td>\n",
       "      <td>201.0</td>\n",
       "    </tr>\n",
       "    <tr>\n",
       "      <th>1</th>\n",
       "      <td>200.7</td>\n",
       "      <td>201.4</td>\n",
       "    </tr>\n",
       "    <tr>\n",
       "      <th>2</th>\n",
       "      <td>200.7</td>\n",
       "      <td>201.2</td>\n",
       "    </tr>\n",
       "    <tr>\n",
       "      <th>3</th>\n",
       "      <td>200.5</td>\n",
       "      <td>201.2</td>\n",
       "    </tr>\n",
       "    <tr>\n",
       "      <th>4</th>\n",
       "      <td>200.2</td>\n",
       "      <td>201.1</td>\n",
       "    </tr>\n",
       "  </tbody>\n",
       "</table>\n",
       "</div>"
      ],
      "text/plain": [
       "   maquina_a  maquina_b\n",
       "0      199.2      201.0\n",
       "1      200.7      201.4\n",
       "2      200.7      201.2\n",
       "3      200.5      201.2\n",
       "4      200.2      201.1"
      ]
     },
     "execution_count": 3,
     "metadata": {},
     "output_type": "execute_result"
    }
   ],
   "source": [
    "import pandas as pd\n",
    "import matplotlib.pyplot as plt\n",
    "from math import sqrt\n",
    "from scipy.stats import norm, chi2, t, f\n",
    "#from scipy import stats\n",
    "df = pd.read_csv('../files/quiz_2.csv')\n",
    "df.head()"
   ]
  },
  {
   "cell_type": "markdown",
   "metadata": {},
   "source": [
    "Dos máquinas, cada una operada por una persona, son utilizadas para cortar tiras de caucho, cuya longitud ideal es de 200 mm, con una tolerancia de +/- 1.7 mm. Al final del turno un inspector toma 54 Y 56 muestras de cada una de las máquinas e inspecciona si la longitud de ambas máquinas cumplen las especificaciones o no. A continuación se muestran las 110 mediciones tomadas para cada máquina"
   ]
  },
  {
   "cell_type": "markdown",
   "metadata": {},
   "source": [
    "a. ¿Existe diferencias estadísticas entre la longitud de la máquina 1 y la máquina?"
   ]
  },
  {
   "cell_type": "code",
   "execution_count": 4,
   "metadata": {},
   "outputs": [
    {
     "name": "stdout",
     "output_type": "stream",
     "text": [
      "(56, 2)\n"
     ]
    },
    {
     "data": {
      "text/html": [
       "<div>\n",
       "<style scoped>\n",
       "    .dataframe tbody tr th:only-of-type {\n",
       "        vertical-align: middle;\n",
       "    }\n",
       "\n",
       "    .dataframe tbody tr th {\n",
       "        vertical-align: top;\n",
       "    }\n",
       "\n",
       "    .dataframe thead th {\n",
       "        text-align: right;\n",
       "    }\n",
       "</style>\n",
       "<table border=\"1\" class=\"dataframe\">\n",
       "  <thead>\n",
       "    <tr style=\"text-align: right;\">\n",
       "      <th></th>\n",
       "      <th>maquina_a</th>\n",
       "      <th>maquina_b</th>\n",
       "    </tr>\n",
       "  </thead>\n",
       "  <tbody>\n",
       "    <tr>\n",
       "      <th>count</th>\n",
       "      <td>56.000000</td>\n",
       "      <td>54.000000</td>\n",
       "    </tr>\n",
       "    <tr>\n",
       "      <th>mean</th>\n",
       "      <td>200.058929</td>\n",
       "      <td>199.931481</td>\n",
       "    </tr>\n",
       "    <tr>\n",
       "      <th>std</th>\n",
       "      <td>1.168959</td>\n",
       "      <td>1.149048</td>\n",
       "    </tr>\n",
       "    <tr>\n",
       "      <th>min</th>\n",
       "      <td>198.200000</td>\n",
       "      <td>197.800000</td>\n",
       "    </tr>\n",
       "    <tr>\n",
       "      <th>25%</th>\n",
       "      <td>199.000000</td>\n",
       "      <td>198.925000</td>\n",
       "    </tr>\n",
       "    <tr>\n",
       "      <th>50%</th>\n",
       "      <td>199.950000</td>\n",
       "      <td>200.100000</td>\n",
       "    </tr>\n",
       "    <tr>\n",
       "      <th>75%</th>\n",
       "      <td>201.050000</td>\n",
       "      <td>200.875000</td>\n",
       "    </tr>\n",
       "    <tr>\n",
       "      <th>max</th>\n",
       "      <td>202.000000</td>\n",
       "      <td>202.100000</td>\n",
       "    </tr>\n",
       "  </tbody>\n",
       "</table>\n",
       "</div>"
      ],
      "text/plain": [
       "        maquina_a   maquina_b\n",
       "count   56.000000   54.000000\n",
       "mean   200.058929  199.931481\n",
       "std      1.168959    1.149048\n",
       "min    198.200000  197.800000\n",
       "25%    199.000000  198.925000\n",
       "50%    199.950000  200.100000\n",
       "75%    201.050000  200.875000\n",
       "max    202.000000  202.100000"
      ]
     },
     "execution_count": 4,
     "metadata": {},
     "output_type": "execute_result"
    }
   ],
   "source": [
    "print(df.shape)\n",
    "df.describe()"
   ]
  },
  {
   "cell_type": "code",
   "execution_count": 5,
   "metadata": {},
   "outputs": [
    {
     "data": {
      "text/plain": [
       "<matplotlib.axes._subplots.AxesSubplot at 0x115a18588>"
      ]
     },
     "execution_count": 5,
     "metadata": {},
     "output_type": "execute_result"
    },
    {
     "data": {
      "image/png": "[encoded data removed]",
      "text/plain": [
       "<Figure size 432x288 with 1 Axes>"
      ]
     },
     "metadata": {
      "needs_background": "light"
     },
     "output_type": "display_data"
    }
   ],
   "source": [
    "df.boxplot()"
   ]
  },
  {
   "cell_type": "code",
   "execution_count": 6,
   "metadata": {},
   "outputs": [
    {
     "data": {
      "text/plain": [
       "(1.3664642857142886, 1.3203109713487051)"
      ]
     },
     "execution_count": 6,
     "metadata": {},
     "output_type": "execute_result"
    }
   ],
   "source": [
    "std2_a = (df['maquina_a'].std())**2\n",
    "std2_b = (df['maquina_b'].std())**2\n",
    "std2_a, std2_b"
   ]
  },
  {
   "cell_type": "code",
   "execution_count": 7,
   "metadata": {},
   "outputs": [
    {
     "data": {
      "text/plain": [
       "1.0349563969149158"
      ]
     },
     "execution_count": 7,
     "metadata": {},
     "output_type": "execute_result"
    }
   ],
   "source": [
    "f0 = std2_a / std2_b\n",
    "f0"
   ]
  },
  {
   "cell_type": "code",
   "execution_count": 8,
   "metadata": {},
   "outputs": [
    {
     "data": {
      "text/plain": [
       "1.7169731073971102"
      ]
     },
     "execution_count": 8,
     "metadata": {},
     "output_type": "execute_result"
    }
   ],
   "source": [
    "F_alpha = f.isf(0.025,df['maquina_a'].count()-1, df['maquina_b'].count()-1) # Se usa la cola derecha por eso es f.isf() \n",
    "F_alpha"
   ]
  },
  {
   "cell_type": "markdown",
   "metadata": {},
   "source": [
    "Como 1.7169 no es mayor a 1.0349 no puedo rechazar a H0, por lo tanto la razón de varianza son iguales, por esta razón usamos la primera hipotesis de medias"
   ]
  },
  {
   "cell_type": "code",
   "execution_count": 9,
   "metadata": {},
   "outputs": [],
   "source": [
    "n_a = df['maquina_a'].count()\n",
    "n_b = df['maquina_b'].count()\n",
    "std_a = df['maquina_a'].std()\n",
    "std_b = df['maquina_b'].std()\n",
    "mean_a = df['maquina_a'].mean()\n",
    "mean_b = df['maquina_b'].mean()"
   ]
  },
  {
   "cell_type": "code",
   "execution_count": 10,
   "metadata": {},
   "outputs": [
    {
     "data": {
      "text/plain": [
       "1.159230336919666"
      ]
     },
     "execution_count": 10,
     "metadata": {},
     "output_type": "execute_result"
    }
   ],
   "source": [
    "sp = sqrt(((n_a-1)*std_a**2 + (n_b-1)*std_b**2)/(n_a + n_b - 2))\n",
    "sp"
   ]
  },
  {
   "cell_type": "code",
   "execution_count": 11,
   "metadata": {},
   "outputs": [],
   "source": [
    "t0 = (mean_a - mean_b)/(sp*sqrt((1/n_a)+(1/n_b)))"
   ]
  },
  {
   "cell_type": "code",
   "execution_count": 12,
   "metadata": {},
   "outputs": [
    {
     "data": {
      "text/plain": [
       "<scipy.stats._distn_infrastructure.rv_frozen at 0x1109f7390>"
      ]
     },
     "execution_count": 12,
     "metadata": {},
     "output_type": "execute_result"
    }
   ],
   "source": [
    "t(0.025, 108)"
   ]
  },
  {
   "cell_type": "code",
   "execution_count": 13,
   "metadata": {},
   "outputs": [],
   "source": [
    "from scipy.stats import median_test"
   ]
  },
  {
   "cell_type": "code",
   "execution_count": 14,
   "metadata": {
    "scrolled": true
   },
   "outputs": [
    {
     "data": {
      "text/html": [
       "<div>\n",
       "<style scoped>\n",
       "    .dataframe tbody tr th:only-of-type {\n",
       "        vertical-align: middle;\n",
       "    }\n",
       "\n",
       "    .dataframe tbody tr th {\n",
       "        vertical-align: top;\n",
       "    }\n",
       "\n",
       "    .dataframe thead th {\n",
       "        text-align: right;\n",
       "    }\n",
       "</style>\n",
       "<table border=\"1\" class=\"dataframe\">\n",
       "  <thead>\n",
       "    <tr style=\"text-align: right;\">\n",
       "      <th></th>\n",
       "      <th>maquina_a</th>\n",
       "      <th>maquina_b</th>\n",
       "    </tr>\n",
       "  </thead>\n",
       "  <tbody>\n",
       "    <tr>\n",
       "      <th>0</th>\n",
       "      <td>199.2</td>\n",
       "      <td>201.0</td>\n",
       "    </tr>\n",
       "    <tr>\n",
       "      <th>1</th>\n",
       "      <td>200.7</td>\n",
       "      <td>201.4</td>\n",
       "    </tr>\n",
       "    <tr>\n",
       "      <th>2</th>\n",
       "      <td>200.7</td>\n",
       "      <td>201.2</td>\n",
       "    </tr>\n",
       "    <tr>\n",
       "      <th>3</th>\n",
       "      <td>200.5</td>\n",
       "      <td>201.2</td>\n",
       "    </tr>\n",
       "    <tr>\n",
       "      <th>4</th>\n",
       "      <td>200.2</td>\n",
       "      <td>201.1</td>\n",
       "    </tr>\n",
       "  </tbody>\n",
       "</table>\n",
       "</div>"
      ],
      "text/plain": [
       "   maquina_a  maquina_b\n",
       "0      199.2      201.0\n",
       "1      200.7      201.4\n",
       "2      200.7      201.2\n",
       "3      200.5      201.2\n",
       "4      200.2      201.1"
      ]
     },
     "execution_count": 14,
     "metadata": {},
     "output_type": "execute_result"
    }
   ],
   "source": [
    "df['maquina_b'].fillna(df['maquina_a'].mean(), inplace = True)\n",
    "df.head()"
   ]
  },
  {
   "cell_type": "code",
   "execution_count": 15,
   "metadata": {},
   "outputs": [
    {
     "data": {
      "text/plain": [
       "(0.0, 1.0, 200.07946428571427, array([[28, 28],\n",
       "        [28, 28]]))"
      ]
     },
     "execution_count": 15,
     "metadata": {},
     "output_type": "execute_result"
    }
   ],
   "source": [
    "median_test(list(df['maquina_a'].values), list(df['maquina_b'].values))"
   ]
  },
  {
   "cell_type": "code",
   "execution_count": 18,
   "metadata": {},
   "outputs": [
    {
     "name": "stdout",
     "output_type": "stream",
     "text": [
      "Help on function median_test in module scipy.stats.morestats:\n",
      "\n",
      "median_test(*args, **kwds)\n",
      "    Mood's median test.\n",
      "    \n",
      "    Test that two or more samples come from populations with the same median.\n",
      "    \n",
      "    Let ``n = len(args)`` be the number of samples.  The \"grand median\" of\n",
      "    all the data is computed, and a contingency table is formed by\n",
      "    classifying the values in each sample as being above or below the grand\n",
      "    median.  The contingency table, along with `correction` and `lambda_`,\n",
      "    are passed to `scipy.stats.chi2_contingency` to compute the test statistic\n",
      "    and p-value.\n",
      "    \n",
      "    Parameters\n",
      "    ----------\n",
      "    sample1, sample2, ... : array_like\n",
      "        The set of samples.  There must be at least two samples.\n",
      "        Each sample must be a one-dimensional sequence containing at least\n",
      "        one value.  The samples are not required to have the same length.\n",
      "    ties : str, optional\n",
      "        Determines how values equal to the grand median are classified in\n",
      "        the contingency table.  The string must be one of::\n",
      "    \n",
      "            \"below\":\n",
      "                Values equal to the grand median are counted as \"below\".\n",
      "            \"above\":\n",
      "                Values equal to the grand median are counted as \"above\".\n",
      "            \"ignore\":\n",
      "                Values equal to the grand median are not counted.\n",
      "    \n",
      "        The default is \"below\".\n",
      "    correction : bool, optional\n",
      "        If True, *and* there are just two samples, apply Yates' correction\n",
      "        for continuity when computing the test statistic associated with\n",
      "        the contingency table.  Default is True.\n",
      "    lambda_ : float or str, optional.\n",
      "        By default, the statistic computed in this test is Pearson's\n",
      "        chi-squared statistic.  `lambda_` allows a statistic from the\n",
      "        Cressie-Read power divergence family to be used instead.  See\n",
      "        `power_divergence` for details.\n",
      "        Default is 1 (Pearson's chi-squared statistic).\n",
      "    nan_policy : {'propagate', 'raise', 'omit'}, optional\n",
      "        Defines how to handle when input contains nan. 'propagate' returns nan,\n",
      "        'raise' throws an error, 'omit' performs the calculations ignoring nan\n",
      "        values. Default is 'propagate'.\n",
      "    \n",
      "    Returns\n",
      "    -------\n",
      "    stat : float\n",
      "        The test statistic.  The statistic that is returned is determined by\n",
      "        `lambda_`.  The default is Pearson's chi-squared statistic.\n",
      "    p : float\n",
      "        The p-value of the test.\n",
      "    m : float\n",
      "        The grand median.\n",
      "    table : ndarray\n",
      "        The contingency table.  The shape of the table is (2, n), where\n",
      "        n is the number of samples.  The first row holds the counts of the\n",
      "        values above the grand median, and the second row holds the counts\n",
      "        of the values below the grand median.  The table allows further\n",
      "        analysis with, for example, `scipy.stats.chi2_contingency`, or with\n",
      "        `scipy.stats.fisher_exact` if there are two samples, without having\n",
      "        to recompute the table.  If ``nan_policy`` is \"propagate\" and there\n",
      "        are nans in the input, the return value for ``table`` is ``None``.\n",
      "    \n",
      "    See Also\n",
      "    --------\n",
      "    kruskal : Compute the Kruskal-Wallis H-test for independent samples.\n",
      "    mannwhitneyu : Computes the Mann-Whitney rank test on samples x and y.\n",
      "    \n",
      "    Notes\n",
      "    -----\n",
      "    .. versionadded:: 0.15.0\n",
      "    \n",
      "    References\n",
      "    ----------\n",
      "    .. [1] Mood, A. M., Introduction to the Theory of Statistics. McGraw-Hill\n",
      "        (1950), pp. 394-399.\n",
      "    .. [2] Zar, J. H., Biostatistical Analysis, 5th ed. Prentice Hall (2010).\n",
      "        See Sections 8.12 and 10.15.\n",
      "    \n",
      "    Examples\n",
      "    --------\n",
      "    A biologist runs an experiment in which there are three groups of plants.\n",
      "    Group 1 has 16 plants, group 2 has 15 plants, and group 3 has 17 plants.\n",
      "    Each plant produces a number of seeds.  The seed counts for each group\n",
      "    are::\n",
      "    \n",
      "        Group 1: 10 14 14 18 20 22 24 25 31 31 32 39 43 43 48 49\n",
      "        Group 2: 28 30 31 33 34 35 36 40 44 55 57 61 91 92 99\n",
      "        Group 3:  0  3  9 22 23 25 25 33 34 34 40 45 46 48 62 67 84\n",
      "    \n",
      "    The following code applies Mood's median test to these samples.\n",
      "    \n",
      "    >>> g1 = [10, 14, 14, 18, 20, 22, 24, 25, 31, 31, 32, 39, 43, 43, 48, 49]\n",
      "    >>> g2 = [28, 30, 31, 33, 34, 35, 36, 40, 44, 55, 57, 61, 91, 92, 99]\n",
      "    >>> g3 = [0, 3, 9, 22, 23, 25, 25, 33, 34, 34, 40, 45, 46, 48, 62, 67, 84]\n",
      "    >>> from scipy.stats import median_test\n",
      "    >>> stat, p, med, tbl = median_test(g1, g2, g3)\n",
      "    \n",
      "    The median is\n",
      "    \n",
      "    >>> med\n",
      "    34.0\n",
      "    \n",
      "    and the contingency table is\n",
      "    \n",
      "    >>> tbl\n",
      "    array([[ 5, 10,  7],\n",
      "           [11,  5, 10]])\n",
      "    \n",
      "    `p` is too large to conclude that the medians are not the same:\n",
      "    \n",
      "    >>> p\n",
      "    0.12609082774093244\n",
      "    \n",
      "    The \"G-test\" can be performed by passing ``lambda_=\"log-likelihood\"`` to\n",
      "    `median_test`.\n",
      "    \n",
      "    >>> g, p, med, tbl = median_test(g1, g2, g3, lambda_=\"log-likelihood\")\n",
      "    >>> p\n",
      "    0.12224779737117837\n",
      "    \n",
      "    The median occurs several times in the data, so we'll get a different\n",
      "    result if, for example, ``ties=\"above\"`` is used:\n",
      "    \n",
      "    >>> stat, p, med, tbl = median_test(g1, g2, g3, ties=\"above\")\n",
      "    >>> p\n",
      "    0.063873276069553273\n",
      "    \n",
      "    >>> tbl\n",
      "    array([[ 5, 11,  9],\n",
      "           [11,  4,  8]])\n",
      "    \n",
      "    This example demonstrates that if the data set is not large and there\n",
      "    are values equal to the median, the p-value can be sensitive to the\n",
      "    choice of `ties`.\n",
      "\n"
     ]
    }
   ],
   "source": [
    "help(median_test)"
   ]
  },
  {
   "cell_type": "code",
   "execution_count": null,
   "metadata": {},
   "outputs": [],
   "source": []
  },
  {
   "cell_type": "code",
   "execution_count": null,
   "metadata": {},
   "outputs": [],
   "source": []
  },
  {
   "cell_type": "code",
   "execution_count": null,
   "metadata": {},
   "outputs": [],
   "source": []
  }
 ],
 "metadata": {
  "kernelspec": {
   "display_name": "Python 3",
   "language": "python",
   "name": "python3"
  },
  "language_info": {
   "codemirror_mode": {
    "name": "ipython",
    "version": 3
   },
   "file_extension": ".py",
   "mimetype": "text/x-python",
   "name": "python",
   "nbconvert_exporter": "python",
   "pygments_lexer": "ipython3",
   "version": "3.7.0"
  }
 },
 "nbformat": 4,
 "nbformat_minor": 2
}
