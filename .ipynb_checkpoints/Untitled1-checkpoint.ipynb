{
 "cells": [
  {
   "cell_type": "code",
   "execution_count": 40,
   "metadata": {},
   "outputs": [],
   "source": [
    "from numpy import ndarray\n",
    "from sklearn import tree\n",
    "import numpy as np"
   ]
  },
  {
   "cell_type": "code",
   "execution_count": 41,
   "metadata": {},
   "outputs": [],
   "source": [
    "df = pd.read_csv('files/personas.csv')"
   ]
  },
  {
   "cell_type": "code",
   "execution_count": 42,
   "metadata": {},
   "outputs": [
    {
     "data": {
      "text/html": [
       "<div>\n",
       "<style scoped>\n",
       "    .dataframe tbody tr th:only-of-type {\n",
       "        vertical-align: middle;\n",
       "    }\n",
       "\n",
       "    .dataframe tbody tr th {\n",
       "        vertical-align: top;\n",
       "    }\n",
       "\n",
       "    .dataframe thead th {\n",
       "        text-align: right;\n",
       "    }\n",
       "</style>\n",
       "<table border=\"1\" class=\"dataframe\">\n",
       "  <thead>\n",
       "    <tr style=\"text-align: right;\">\n",
       "      <th></th>\n",
       "      <th>nombre</th>\n",
       "      <th>pais</th>\n",
       "      <th>genero</th>\n",
       "      <th>edad</th>\n",
       "      <th>estatura</th>\n",
       "      <th>peso</th>\n",
       "      <th>calzado</th>\n",
       "    </tr>\n",
       "  </thead>\n",
       "  <tbody>\n",
       "    <tr>\n",
       "      <th>0</th>\n",
       "      <td>José Miguel Henao</td>\n",
       "      <td>Colombia</td>\n",
       "      <td>1</td>\n",
       "      <td>24</td>\n",
       "      <td>165</td>\n",
       "      <td>65</td>\n",
       "      <td>39</td>\n",
       "    </tr>\n",
       "    <tr>\n",
       "      <th>1</th>\n",
       "      <td>Marta Cardona</td>\n",
       "      <td>Colombia</td>\n",
       "      <td>0</td>\n",
       "      <td>50</td>\n",
       "      <td>160</td>\n",
       "      <td>58</td>\n",
       "      <td>35</td>\n",
       "    </tr>\n",
       "    <tr>\n",
       "      <th>2</th>\n",
       "      <td>Ana María Henao</td>\n",
       "      <td>Colombia</td>\n",
       "      <td>0</td>\n",
       "      <td>26</td>\n",
       "      <td>158</td>\n",
       "      <td>50</td>\n",
       "      <td>36</td>\n",
       "    </tr>\n",
       "    <tr>\n",
       "      <th>3</th>\n",
       "      <td>Manuel Henao</td>\n",
       "      <td>Colombia</td>\n",
       "      <td>1</td>\n",
       "      <td>29</td>\n",
       "      <td>169</td>\n",
       "      <td>76</td>\n",
       "      <td>39</td>\n",
       "    </tr>\n",
       "    <tr>\n",
       "      <th>4</th>\n",
       "      <td>Peter Smith</td>\n",
       "      <td>Inglaterra</td>\n",
       "      <td>1</td>\n",
       "      <td>35</td>\n",
       "      <td>189</td>\n",
       "      <td>79</td>\n",
       "      <td>42</td>\n",
       "    </tr>\n",
       "    <tr>\n",
       "      <th>5</th>\n",
       "      <td>Angela Merkel</td>\n",
       "      <td>Alemania</td>\n",
       "      <td>0</td>\n",
       "      <td>62</td>\n",
       "      <td>172</td>\n",
       "      <td>75</td>\n",
       "      <td>37</td>\n",
       "    </tr>\n",
       "    <tr>\n",
       "      <th>6</th>\n",
       "      <td>Vladimir Putin</td>\n",
       "      <td>Rusia</td>\n",
       "      <td>1</td>\n",
       "      <td>65</td>\n",
       "      <td>170</td>\n",
       "      <td>77</td>\n",
       "      <td>40</td>\n",
       "    </tr>\n",
       "  </tbody>\n",
       "</table>\n",
       "</div>"
      ],
      "text/plain": [
       "              nombre        pais  genero  edad  estatura  peso  calzado\n",
       "0  José Miguel Henao    Colombia       1    24       165    65       39\n",
       "1      Marta Cardona    Colombia       0    50       160    58       35\n",
       "2    Ana María Henao    Colombia       0    26       158    50       36\n",
       "3       Manuel Henao    Colombia       1    29       169    76       39\n",
       "4        Peter Smith  Inglaterra       1    35       189    79       42\n",
       "5      Angela Merkel    Alemania       0    62       172    75       37\n",
       "6     Vladimir Putin       Rusia       1    65       170    77       40"
      ]
     },
     "execution_count": 42,
     "metadata": {},
     "output_type": "execute_result"
    }
   ],
   "source": [
    "df"
   ]
  },
  {
   "cell_type": "code",
   "execution_count": 46,
   "metadata": {},
   "outputs": [],
   "source": [
    "X=df[['genero','edad','estatura','peso','calzado']].values\n",
    "Y = df['pais'].values"
   ]
  },
  {
   "cell_type": "code",
   "execution_count": 49,
   "metadata": {},
   "outputs": [
    {
     "data": {
      "text/plain": [
       "(array([[  1,  24, 165,  65,  39],\n",
       "        [  0,  50, 160,  58,  35],\n",
       "        [  0,  26, 158,  50,  36],\n",
       "        [  1,  29, 169,  76,  39],\n",
       "        [  1,  35, 189,  79,  42],\n",
       "        [  0,  62, 172,  75,  37],\n",
       "        [  1,  65, 170,  77,  40]]),\n",
       " array(['Colombia', 'Colombia', 'Colombia', 'Colombia', 'Inglaterra',\n",
       "        'Alemania', 'Rusia'], dtype=object))"
      ]
     },
     "execution_count": 49,
     "metadata": {},
     "output_type": "execute_result"
    }
   ],
   "source": [
    "X,Y"
   ]
  },
  {
   "cell_type": "code",
   "execution_count": 50,
   "metadata": {},
   "outputs": [],
   "source": [
    "clf = tree.DecisionTreeClassifier()\n",
    "clf = clf.fit(X,Y)"
   ]
  },
  {
   "cell_type": "code",
   "execution_count": 52,
   "metadata": {},
   "outputs": [
    {
     "name": "stdout",
     "output_type": "stream",
     "text": [
      "['Colombia' 'Inglaterra']\n"
     ]
    }
   ],
   "source": [
    "prediction = clf.predict([[1,25,165,65,39],[1,35,196,88,41]])\n",
    "print (prediction)"
   ]
  },
  {
   "cell_type": "code",
   "execution_count": null,
   "metadata": {},
   "outputs": [],
   "source": []
  }
 ],
 "metadata": {
  "kernelspec": {
   "display_name": "Python 3",
   "language": "python",
   "name": "python3"
  },
  "language_info": {
   "codemirror_mode": {
    "name": "ipython",
    "version": 3
   },
   "file_extension": ".py",
   "mimetype": "text/x-python",
   "name": "python",
   "nbconvert_exporter": "python",
   "pygments_lexer": "ipython3",
   "version": "3.6.5"
  }
 },
 "nbformat": 4,
 "nbformat_minor": 2
}
