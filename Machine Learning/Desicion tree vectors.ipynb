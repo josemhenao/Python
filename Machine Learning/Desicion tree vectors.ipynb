{
 "cells": [
  {
   "cell_type": "code",
   "execution_count": 2,
   "metadata": {},
   "outputs": [],
   "source": [
    "from sklearn import tree"
   ]
  },
  {
   "cell_type": "code",
   "execution_count": 3,
   "metadata": {},
   "outputs": [
    {
     "name": "stdout",
     "output_type": "stream",
     "text": [
      "len X:  18\n",
      "len Y:  18\n",
      "['Colombia' 'Inglaterra']\n"
     ]
    }
   ],
   "source": [
    "\"\"\"\n",
    "\tX = [\n",
    "\t\t 0/1 -> Masculino/Femenino,\n",
    "\t\t Estatura,\n",
    "\t\t Peso,\n",
    "\t\t Talla de calzado\n",
    "\t\t]\n",
    "\"\"\"\n",
    "\n",
    "X = [[0,165,48,34],[0,158,67,37],[1,187,78,41],[1,170,66,40],[0,173,63,38],[0,167,58,37],[1,157,38,41],[1,166,39,43],[1,178,68,39],\n",
    "\t[0,175,59,38],[1,189,88,42],[1,165,65,39],[1,176,68,40],[0,172,54,39],[0,149,56,35],[0,168,57,38],[1,178,70,39],[1,187,90,42]\n",
    "]\n",
    "\n",
    "Y = [\"Colombia\",\"México\",\"Inglaterra\",\"Colombia\",\"Inglaterra\",\"Argentina\",\"México\",\"Colombia\",\"Alemania\",\n",
    "\t \"Colombia\",\"Alemania\",\"Colombia\",\"México\",\"Alemania\",\"Colombia\",\"Inglaterra\",\"Argentina\",\"Alemania\"]\n",
    "\n",
    "print('len X: ',len(X))\n",
    "print('len Y: ',len(Y))\n"
   ]
  },
  {
   "cell_type": "code",
   "execution_count": 4,
   "metadata": {},
   "outputs": [],
   "source": [
    "clf = tree.DecisionTreeClassifier()\n",
    "clf = clf.fit(X,Y)"
   ]
  },
  {
   "cell_type": "code",
   "execution_count": 5,
   "metadata": {},
   "outputs": [
    {
     "name": "stdout",
     "output_type": "stream",
     "text": [
      "['Colombia' 'Alemania']\n"
     ]
    }
   ],
   "source": [
    "prediction = clf.predict([[1,165,65,39],[1,196,88,41]])\n",
    "print (prediction)"
   ]
  },
  {
   "cell_type": "code",
   "execution_count": null,
   "metadata": {},
   "outputs": [],
   "source": []
  }
 ],
 "metadata": {
  "kernelspec": {
   "display_name": "Python 3",
   "language": "python",
   "name": "python3"
  },
  "language_info": {
   "codemirror_mode": {
    "name": "ipython",
    "version": 3
   },
   "file_extension": ".py",
   "mimetype": "text/x-python",
   "name": "python",
   "nbconvert_exporter": "python",
   "pygments_lexer": "ipython3",
   "version": "3.6.5"
  }
 },
 "nbformat": 4,
 "nbformat_minor": 2
}
