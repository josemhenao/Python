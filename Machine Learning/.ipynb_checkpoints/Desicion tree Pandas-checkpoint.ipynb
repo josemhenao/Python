{
 "cells": [
  {
   "cell_type": "code",
   "execution_count": 13,
   "metadata": {},
   "outputs": [],
   "source": [
    "from numpy import ndarray\n",
    "from sklearn import tree\n",
    "import numpy as np\n",
    "import pandas as pd"
   ]
  },
  {
   "cell_type": "code",
   "execution_count": 14,
   "metadata": {},
   "outputs": [],
   "source": [
    "# Leyendo los datos desde un CSV \n",
    "df = pd.read_csv('files/personas.csv')"
   ]
  },
  {
   "cell_type": "code",
   "execution_count": 15,
   "metadata": {},
   "outputs": [
    {
     "data": {
      "text/html": [
       "<div>\n",
       "<style scoped>\n",
       "    .dataframe tbody tr th:only-of-type {\n",
       "        vertical-align: middle;\n",
       "    }\n",
       "\n",
       "    .dataframe tbody tr th {\n",
       "        vertical-align: top;\n",
       "    }\n",
       "\n",
       "    .dataframe thead th {\n",
       "        text-align: right;\n",
       "    }\n",
       "</style>\n",
       "<table border=\"1\" class=\"dataframe\">\n",
       "  <thead>\n",
       "    <tr style=\"text-align: right;\">\n",
       "      <th></th>\n",
       "      <th>nombre</th>\n",
       "      <th>pais</th>\n",
       "      <th>genero</th>\n",
       "      <th>edad</th>\n",
       "      <th>estatura</th>\n",
       "      <th>peso</th>\n",
       "      <th>calzado</th>\n",
       "    </tr>\n",
       "  </thead>\n",
       "  <tbody>\n",
       "    <tr>\n",
       "      <th>0</th>\n",
       "      <td>José Miguel Henao</td>\n",
       "      <td>Colombia</td>\n",
       "      <td>1</td>\n",
       "      <td>24</td>\n",
       "      <td>165</td>\n",
       "      <td>65</td>\n",
       "      <td>39</td>\n",
       "    </tr>\n",
       "    <tr>\n",
       "      <th>1</th>\n",
       "      <td>Marta Cardona</td>\n",
       "      <td>Colombia</td>\n",
       "      <td>0</td>\n",
       "      <td>50</td>\n",
       "      <td>160</td>\n",
       "      <td>58</td>\n",
       "      <td>35</td>\n",
       "    </tr>\n",
       "    <tr>\n",
       "      <th>2</th>\n",
       "      <td>Ana María Henao</td>\n",
       "      <td>Colombia</td>\n",
       "      <td>0</td>\n",
       "      <td>26</td>\n",
       "      <td>158</td>\n",
       "      <td>50</td>\n",
       "      <td>36</td>\n",
       "    </tr>\n",
       "    <tr>\n",
       "      <th>3</th>\n",
       "      <td>Manuel Henao</td>\n",
       "      <td>Colombia</td>\n",
       "      <td>1</td>\n",
       "      <td>29</td>\n",
       "      <td>169</td>\n",
       "      <td>76</td>\n",
       "      <td>39</td>\n",
       "    </tr>\n",
       "    <tr>\n",
       "      <th>4</th>\n",
       "      <td>Peter Smith</td>\n",
       "      <td>Inglaterra</td>\n",
       "      <td>1</td>\n",
       "      <td>35</td>\n",
       "      <td>189</td>\n",
       "      <td>79</td>\n",
       "      <td>42</td>\n",
       "    </tr>\n",
       "    <tr>\n",
       "      <th>5</th>\n",
       "      <td>Angela Merkel</td>\n",
       "      <td>Alemania</td>\n",
       "      <td>0</td>\n",
       "      <td>62</td>\n",
       "      <td>172</td>\n",
       "      <td>75</td>\n",
       "      <td>37</td>\n",
       "    </tr>\n",
       "    <tr>\n",
       "      <th>6</th>\n",
       "      <td>Vladimir Putin</td>\n",
       "      <td>Rusia</td>\n",
       "      <td>1</td>\n",
       "      <td>65</td>\n",
       "      <td>170</td>\n",
       "      <td>77</td>\n",
       "      <td>40</td>\n",
       "    </tr>\n",
       "  </tbody>\n",
       "</table>\n",
       "</div>"
      ],
      "text/plain": [
       "              nombre        pais  genero  edad  estatura  peso  calzado\n",
       "0  José Miguel Henao    Colombia       1    24       165    65       39\n",
       "1      Marta Cardona    Colombia       0    50       160    58       35\n",
       "2    Ana María Henao    Colombia       0    26       158    50       36\n",
       "3       Manuel Henao    Colombia       1    29       169    76       39\n",
       "4        Peter Smith  Inglaterra       1    35       189    79       42\n",
       "5      Angela Merkel    Alemania       0    62       172    75       37\n",
       "6     Vladimir Putin       Rusia       1    65       170    77       40"
      ]
     },
     "execution_count": 15,
     "metadata": {},
     "output_type": "execute_result"
    }
   ],
   "source": [
    "df"
   ]
  },
  {
   "cell_type": "code",
   "execution_count": 38,
   "metadata": {},
   "outputs": [
    {
     "data": {
      "text/html": [
       "<div>\n",
       "<style scoped>\n",
       "    .dataframe tbody tr th:only-of-type {\n",
       "        vertical-align: middle;\n",
       "    }\n",
       "\n",
       "    .dataframe tbody tr th {\n",
       "        vertical-align: top;\n",
       "    }\n",
       "\n",
       "    .dataframe thead th {\n",
       "        text-align: right;\n",
       "    }\n",
       "</style>\n",
       "<table border=\"1\" class=\"dataframe\">\n",
       "  <thead>\n",
       "    <tr style=\"text-align: right;\">\n",
       "      <th></th>\n",
       "      <th>genero</th>\n",
       "      <th>edad</th>\n",
       "      <th>estatura</th>\n",
       "      <th>peso</th>\n",
       "      <th>calzado</th>\n",
       "    </tr>\n",
       "  </thead>\n",
       "  <tbody>\n",
       "    <tr>\n",
       "      <th>count</th>\n",
       "      <td>4.00000</td>\n",
       "      <td>4.000000</td>\n",
       "      <td>4.000000</td>\n",
       "      <td>4.000000</td>\n",
       "      <td>4.000000</td>\n",
       "    </tr>\n",
       "    <tr>\n",
       "      <th>mean</th>\n",
       "      <td>0.50000</td>\n",
       "      <td>32.250000</td>\n",
       "      <td>163.000000</td>\n",
       "      <td>62.250000</td>\n",
       "      <td>37.250000</td>\n",
       "    </tr>\n",
       "    <tr>\n",
       "      <th>std</th>\n",
       "      <td>0.57735</td>\n",
       "      <td>12.010412</td>\n",
       "      <td>4.966555</td>\n",
       "      <td>11.026483</td>\n",
       "      <td>2.061553</td>\n",
       "    </tr>\n",
       "    <tr>\n",
       "      <th>min</th>\n",
       "      <td>0.00000</td>\n",
       "      <td>24.000000</td>\n",
       "      <td>158.000000</td>\n",
       "      <td>50.000000</td>\n",
       "      <td>35.000000</td>\n",
       "    </tr>\n",
       "    <tr>\n",
       "      <th>25%</th>\n",
       "      <td>0.00000</td>\n",
       "      <td>25.500000</td>\n",
       "      <td>159.500000</td>\n",
       "      <td>56.000000</td>\n",
       "      <td>35.750000</td>\n",
       "    </tr>\n",
       "    <tr>\n",
       "      <th>50%</th>\n",
       "      <td>0.50000</td>\n",
       "      <td>27.500000</td>\n",
       "      <td>162.500000</td>\n",
       "      <td>61.500000</td>\n",
       "      <td>37.500000</td>\n",
       "    </tr>\n",
       "    <tr>\n",
       "      <th>75%</th>\n",
       "      <td>1.00000</td>\n",
       "      <td>34.250000</td>\n",
       "      <td>166.000000</td>\n",
       "      <td>67.750000</td>\n",
       "      <td>39.000000</td>\n",
       "    </tr>\n",
       "    <tr>\n",
       "      <th>max</th>\n",
       "      <td>1.00000</td>\n",
       "      <td>50.000000</td>\n",
       "      <td>169.000000</td>\n",
       "      <td>76.000000</td>\n",
       "      <td>39.000000</td>\n",
       "    </tr>\n",
       "  </tbody>\n",
       "</table>\n",
       "</div>"
      ],
      "text/plain": [
       "        genero       edad    estatura       peso    calzado\n",
       "count  4.00000   4.000000    4.000000   4.000000   4.000000\n",
       "mean   0.50000  32.250000  163.000000  62.250000  37.250000\n",
       "std    0.57735  12.010412    4.966555  11.026483   2.061553\n",
       "min    0.00000  24.000000  158.000000  50.000000  35.000000\n",
       "25%    0.00000  25.500000  159.500000  56.000000  35.750000\n",
       "50%    0.50000  27.500000  162.500000  61.500000  37.500000\n",
       "75%    1.00000  34.250000  166.000000  67.750000  39.000000\n",
       "max    1.00000  50.000000  169.000000  76.000000  39.000000"
      ]
     },
     "execution_count": 38,
     "metadata": {},
     "output_type": "execute_result"
    }
   ],
   "source": [
    "g = df.groupby('pais')\n",
    "col = g.get_group('Colombia')\n",
    "col.describe()"
   ]
  },
  {
   "cell_type": "code",
   "execution_count": 16,
   "metadata": {},
   "outputs": [],
   "source": [
    "# Tomando los registros numéricos del Dataframe\n",
    "X = df[['genero','edad','estatura','peso','calzado']].values\n",
    "# Tomandos las etiquetas de cada registro del Dataframe\n",
    "Y = df['pais'].values"
   ]
  },
  {
   "cell_type": "code",
   "execution_count": 26,
   "metadata": {},
   "outputs": [
    {
     "name": "stdout",
     "output_type": "stream",
     "text": [
      "Datos:  [[  1  24 165  65  39]\n",
      " [  0  50 160  58  35]\n",
      " [  0  26 158  50  36]\n",
      " [  1  29 169  76  39]\n",
      " [  1  35 189  79  42]\n",
      " [  0  62 172  75  37]\n",
      " [  1  65 170  77  40]]\n",
      "\n",
      "\n",
      "Etiquetas:  ['Colombia' 'Colombia' 'Colombia' 'Colombia' 'Inglaterra' 'Alemania'\n",
      " 'Rusia']\n"
     ]
    }
   ],
   "source": [
    "print('Datos: ', X)\n",
    "print('\\n')\n",
    "print('Etiquetas: ',Y)"
   ]
  },
  {
   "cell_type": "code",
   "execution_count": 33,
   "metadata": {},
   "outputs": [],
   "source": [
    "clf = tree.DecisionTreeClassifier()\n",
    "# Entrenamos nuestro árbol\n",
    "clf = clf.fit(X,Y)"
   ]
  },
  {
   "cell_type": "code",
   "execution_count": 32,
   "metadata": {},
   "outputs": [
    {
     "name": "stdout",
     "output_type": "stream",
     "text": [
      "['Colombia' 'Colombia']\n"
     ]
    }
   ],
   "source": [
    "#[Genero,Edad,Estatura,Peso,Calzado]\n",
    "prediction = clf.predict([[1,25,165,65,39],[1,35,166,88,41]])\n",
    "\n",
    "#Mostrando la predicción para dos conjuntos de datos\n",
    "print (prediction)"
   ]
  },
  {
   "cell_type": "code",
   "execution_count": null,
   "metadata": {},
   "outputs": [],
   "source": []
  }
 ],
 "metadata": {
  "kernelspec": {
   "display_name": "Python 3",
   "language": "python",
   "name": "python3"
  },
  "language_info": {
   "codemirror_mode": {
    "name": "ipython",
    "version": 3
   },
   "file_extension": ".py",
   "mimetype": "text/x-python",
   "name": "python",
   "nbconvert_exporter": "python",
   "pygments_lexer": "ipython3",
   "version": "3.6.5"
  }
 },
 "nbformat": 4,
 "nbformat_minor": 2
}
