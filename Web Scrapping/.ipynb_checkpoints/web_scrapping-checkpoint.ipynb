{
 "cells": [
  {
   "cell_type": "code",
   "execution_count": 29,
   "metadata": {},
   "outputs": [],
   "source": [
    "from bs4 import BeautifulSoup\n",
    "import requests\n",
    "# Here, we're just importing both Beautiful Soup and the Requests library"
   ]
  },
  {
   "cell_type": "code",
   "execution_count": 114,
   "metadata": {},
   "outputs": [],
   "source": [
    "page_link = 'https://www.yara.es/nutricion-vegetal/maiz/'\n",
    "# this is the url that we've already determined is safe and legal to scrape from."
   ]
  },
  {
   "cell_type": "code",
   "execution_count": 115,
   "metadata": {},
   "outputs": [],
   "source": [
    "page_response = requests.get(page_link, timeout=10)\n",
    "# here, we fetch the content from the url, using the requests library"
   ]
  },
  {
   "cell_type": "code",
   "execution_count": 116,
   "metadata": {},
   "outputs": [],
   "source": [
    "page_content = BeautifulSoup(page_response.content, \"html.parser\")\n",
    "#we use the html parser to parse the url content and store it in a variable."
   ]
  },
  {
   "cell_type": "code",
   "execution_count": 117,
   "metadata": {},
   "outputs": [],
   "source": [
    "textContent = []\n",
    "# Search for <p> tags and append the text into textContent array\n",
    "for i in page_content.find_all(\"p\"):\n",
    "    paragraphs = i.text\n",
    "    textContent.append(paragraphs)"
   ]
  },
  {
   "cell_type": "code",
   "execution_count": 121,
   "metadata": {},
   "outputs": [
    {
     "name": "stdout",
     "output_type": "stream",
     "text": [
      "Utilizamos cookies en este sitio. Al utilizar este sitio, usted acepta que podamos almacenar y acceder a cookies en su dispositivo. \n",
      "\n",
      "Ver ajustes de Cookies \n",
      "\n",
      "¿Buscas información sobre sintomas de deficiencias en maíz? o ¿Quieres incrementar el rendimiento o calidad de  tu cultivo de maíz y necesitas ayuda para elegir el fertilizante adecuado? Encuentra respuestas a estas preguntas con recomendaciones en todos los aspectos de la nutrición de maíz. \n",
      "\n",
      "La meta de cualquier agricultor es obtener altos rendimientos de su maíz, y hay varios factores agronómicos que puedan influenciar en el resultado, muchos pueden ser manipulados por el agricultor mismo conociendo las condiciones de suelo y clima. Para obtener altos rendimientos, el enfoque debe de estar en aumentar la cantidad de granos por mazorca y aumentar el peso de cada grano.  \n",
      "\n",
      "Aprenda como incrementar el rendimiento del cultivo de maíz \n",
      "\n",
      "\n",
      "                            Ya sea que esté buscando aumentar la calidad y el rendimiento de su maíz o simplemente necesita más asesoramiento general sobre agronomía e información sobre nutrición de cultivos. Vea los últimos consejos de los agrónomos de Yara.\n",
      "                         \n",
      "\n",
      "Cada nutriente tiene un efecto importante en la nutrición del cultivo. Elija un nutriente a continuación y aprenda más sobre los síntomas de su deficiencia y su papel en la producción de maíz. \n",
      "\n",
      "\n",
      " \n",
      "\n",
      "Yara Iberian Infanta Mercedes 31 28020 Madrid  España \n",
      "\n",
      "Tel: +34 914 263 500   \n",
      "\n",
      "Contactos en Yara  \n",
      "\n"
     ]
    }
   ],
   "source": [
    "for tc in textContent:\n",
    "    print (tc,'\\n')"
   ]
  },
  {
   "cell_type": "code",
   "execution_count": 122,
   "metadata": {},
   "outputs": [],
   "source": [
    "titles = []\n",
    "# Search for <title> tags and append the text into titles array\n",
    "for t in page_content.find_all(\"title\"):\n",
    "    paragraphs = t.text\n",
    "    titles.append(paragraphs)"
   ]
  },
  {
   "cell_type": "code",
   "execution_count": 123,
   "metadata": {},
   "outputs": [
    {
     "data": {
      "text/plain": [
       "['Nutrición de cultivos de maíz | Yara España']"
      ]
     },
     "execution_count": 123,
     "metadata": {},
     "output_type": "execute_result"
    }
   ],
   "source": [
    "titles"
   ]
  },
  {
   "cell_type": "code",
   "execution_count": null,
   "metadata": {},
   "outputs": [],
   "source": []
  }
 ],
 "metadata": {
  "kernelspec": {
   "display_name": "Python 3",
   "language": "python",
   "name": "python3"
  },
  "language_info": {
   "codemirror_mode": {
    "name": "ipython",
    "version": 3
   },
   "file_extension": ".py",
   "mimetype": "text/x-python",
   "name": "python",
   "nbconvert_exporter": "python",
   "pygments_lexer": "ipython3",
   "version": "3.6.5"
  }
 },
 "nbformat": 4,
 "nbformat_minor": 2
}
