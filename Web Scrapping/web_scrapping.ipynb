{
 "cells": [
  {
   "cell_type": "code",
   "execution_count": 2,
   "metadata": {},
   "outputs": [],
   "source": [
    "from bs4 import BeautifulSoup\n",
    "import requests\n",
    "# Here, we're just importing both Beautiful Soup and the Requests library"
   ]
  },
  {
   "cell_type": "code",
   "execution_count": 10,
   "metadata": {},
   "outputs": [],
   "source": [
    "page_link = 'https://es.wikipedia.org/wiki/Cisco_Systems'\n",
    "# this is the url that we've already determined is safe and legal to scrape from."
   ]
  },
  {
   "cell_type": "code",
   "execution_count": 11,
   "metadata": {},
   "outputs": [],
   "source": [
    "page_response = requests.get(page_link, timeout=10)\n",
    "# here, we fetch the content from the url, using the requests library"
   ]
  },
  {
   "cell_type": "code",
   "execution_count": 22,
   "metadata": {},
   "outputs": [],
   "source": [
    "page_content = BeautifulSoup(page_response.content, \"html.parser\")\n",
    "#we use the html parser to parse the url content and store it in a variable."
   ]
  },
  {
   "cell_type": "code",
   "execution_count": 26,
   "metadata": {},
   "outputs": [],
   "source": [
    "textContent = []\n",
    "# Search for <p> tags and append the text into textContent array\n",
    "for i in page_content.find_all(\"th\"):\n",
    "    paragraphs = i.text\n",
    "    textContent.append(paragraphs)"
   ]
  },
  {
   "cell_type": "code",
   "execution_count": 34,
   "metadata": {},
   "outputs": [
    {
     "data": {
      "text/plain": [
       "[<th class=\"cabecera organización\" colspan=\"3\" style=\"text-align:center;background-color:#DDD;color:black;\">cisco Systems, Inc.</th>,\n",
       " <th scope=\"row\" style=\"text-align:left;font-size:95%;;\">Tipo</th>,\n",
       " <th scope=\"row\" style=\"text-align:left;font-size:95%;;\"><a href=\"/wiki/Industria\" title=\"Industria\">Industria</a></th>,\n",
       " <th scope=\"row\" style=\"text-align:left;font-size:95%;;\">Forma legal</th>,\n",
       " <th scope=\"row\" style=\"text-align:left;font-size:95%;;\">Fundación</th>,\n",
       " <th scope=\"row\" style=\"text-align:left;font-size:95%;;\">Fundador(es)</th>,\n",
       " <th scope=\"row\" style=\"text-align:left;font-size:95%;;\">Sede</th>,\n",
       " <th scope=\"row\" style=\"text-align:left;font-size:95%;;\">Productos</th>,\n",
       " <th scope=\"row\" style=\"text-align:left;font-size:95%;;\">Ingresos</th>,\n",
       " <th scope=\"row\" style=\"text-align:left;font-size:95%;;\">Empleados</th>,\n",
       " <th scope=\"row\" style=\"text-align:left;font-size:95%;;\">Miembro de</th>,\n",
       " <th scope=\"row\" style=\"text-align:left;font-size:95%;;\">Dependiente de</th>,\n",
       " <th scope=\"row\" style=\"text-align:left;font-size:95%;;\">Coordenadas</th>,\n",
       " <th scope=\"row\" style=\"text-align:left;font-size:95%;;\">Sitio web</th>]"
      ]
     },
     "execution_count": 34,
     "metadata": {},
     "output_type": "execute_result"
    }
   ],
   "source": [
    "page_content.find_all(\"th\")"
   ]
  },
  {
   "cell_type": "code",
   "execution_count": 31,
   "metadata": {},
   "outputs": [
    {
     "data": {
      "text/plain": [
       "['cisco Systems, Inc.',\n",
       " 'Tipo',\n",
       " 'Industria',\n",
       " 'Forma legal',\n",
       " 'Fundación',\n",
       " 'Fundador(es)',\n",
       " 'Sede',\n",
       " 'Productos',\n",
       " 'Ingresos',\n",
       " 'Empleados',\n",
       " 'Miembro de',\n",
       " 'Dependiente de',\n",
       " 'Coordenadas',\n",
       " 'Sitio web']"
      ]
     },
     "execution_count": 31,
     "metadata": {},
     "output_type": "execute_result"
    }
   ],
   "source": [
    "textContent"
   ]
  },
  {
   "cell_type": "code",
   "execution_count": 32,
   "metadata": {},
   "outputs": [],
   "source": [
    " titles = []\n",
    "# Search for <title> tags and append the text into titles array\n",
    "for t in page_content.find_all(\"title\"):\n",
    "    paragraphs = t.text\n",
    "    titles.append(paragraphs)"
   ]
  },
  {
   "cell_type": "code",
   "execution_count": 16,
   "metadata": {},
   "outputs": [
    {
     "data": {
      "text/plain": [
       "['Cisco Systems - Wikipedia, la enciclopedia libre']"
      ]
     },
     "execution_count": 16,
     "metadata": {},
     "output_type": "execute_result"
    }
   ],
   "source": [
    "titles"
   ]
  },
  {
   "cell_type": "code",
   "execution_count": null,
   "metadata": {},
   "outputs": [],
   "source": []
  }
 ],
 "metadata": {
  "kernelspec": {
   "display_name": "Python 3",
   "language": "python",
   "name": "python3"
  },
  "language_info": {
   "codemirror_mode": {
    "name": "ipython",
    "version": 3
   },
   "file_extension": ".py",
   "mimetype": "text/x-python",
   "name": "python",
   "nbconvert_exporter": "python",
   "pygments_lexer": "ipython3",
   "version": "3.7.0"
  }
 },
 "nbformat": 4,
 "nbformat_minor": 2
}
