{
 "cells": [
  {
   "cell_type": "markdown",
   "metadata": {},
   "source": [
    "## Arboles de Decisión\n",
    "\n",
    "Dado un conjunto de datos se fabrican diagramas de construcciones lógicas, que sirven para representar y categorizar una serie de condiciones que ocurren de forma sucesiva, para la resolución de un problema. \n",
    "\n",
    "***Composición:***\n",
    "- **Nodos:** Es el momento en el que se ha de tomar una decisión\n",
    "- **Vectores de números:** Es solución final a la que se llega en función de las diversas posibilidades que se tienen\n",
    "- **Flechas:** Uniones entre un nodo y otro; representan cada acción distinta\n",
    "- **Etiquetas:** Se encuentran en cada nodo y cada flecha y dan nombre a cada acción\n",
    "\n",
    "***Reglas:***\n",
    "- Al comienzo del juego se da un nodo inicial, no es apuntado por ninguna flecha\n",
    "- El resto de nodos del juego son apuntados por una única flecha\n",
    "- Sólo hay un camino para llegar a un nodo partiendo del nodo inicial --> Las desiciones son excluyentes\n"
   ]
  },
  {
   "cell_type": "markdown",
   "metadata": {},
   "source": [
    "$ L_D(h) ≤ L_S(h) + \\sqrt{\\frac{(n+1)log_2(d+3)+log(2/δ)}{2m}} $\n"
   ]
  },
  {
   "cell_type": "markdown",
   "metadata": {},
   "source": [
    "Los árboles de decisión sufren de alta variación. Esto significa que si dividimos los datos de entrenamiento en dos partes al azar y ajustamos un árbol de decisión a ambas mitades, los resultados que obtengamos podrían ser bastante diferentes.\n"
   ]
  },
  {
   "cell_type": "code",
   "execution_count": null,
   "metadata": {},
   "outputs": [],
   "source": []
  }
 ],
 "metadata": {
  "kernelspec": {
   "display_name": "Python 3",
   "language": "python",
   "name": "python3"
  },
  "language_info": {
   "codemirror_mode": {
    "name": "ipython",
    "version": 3
   },
   "file_extension": ".py",
   "mimetype": "text/x-python",
   "name": "python",
   "nbconvert_exporter": "python",
   "pygments_lexer": "ipython3",
   "version": "3.7.0"
  }
 },
 "nbformat": 4,
 "nbformat_minor": 2
}
