{
 "cells": [
  {
   "cell_type": "markdown",
   "metadata": {},
   "source": [
    "## Árboles de Decisión\n",
    "Este modelo descompone nuestros datos al tomar decisiones basadas en una serie de preguntas. Son modelos atractivos si nos importa la interpretabilidad.\n",
    "Consideremos el siguiente ejemplo en el que usamos un árbol de decisiones para decidir una actividad en un día en particular:\n",
    "\n",
    "![imagen.png](attachment:imagen.png)"
   ]
  },
  {
   "cell_type": "markdown",
   "metadata": {},
   "source": [
    "Los árboles de decisión sufren de alta variación. Esto significa que si dividimos los datos de entrenamiento en dos partes al azar y ajustamos un árbol de decisión a ambas mitades, los resultados que obtengamos podrían ser bastante diferentes.\n"
   ]
  },
  {
   "cell_type": "markdown",
   "metadata": {},
   "source": [
    "### ¿Cómo Funcionan?\n",
    "* Basado en las características de nuestro conjunto de entrenamiento, el modelo aprende una serie de preguntas para inferir las etiquetas de clase de las muestras.\n",
    "\n",
    "* Comenzamos en la raíz del árbol y dividimos los datos sobre la característica que resulta en la mayor **Ganancia de Información (IG)**\n",
    "\n",
    "*  Se repite el proceso en cada nodo secundario hasta que las hojas estén puras (que las muestras en cada nodo pertenecen a la misma clase).\n",
    "\n",
    "* Si se produce **sobreajuste** (árboles muy profundos) se debe podar el árbol estableciendo un límite para la profundidad máxima del árbol."
   ]
  },
  {
   "cell_type": "markdown",
   "metadata": {},
   "source": [
    "### Ganancia de Información (IG):\n",
    "\n",
    "Para dividir los nodos en las características más informativas, necesitamos definir una función objetivo que queremos optimizar a través del algoritmo de aprendizaje de árbol. Aquí, nuestra función objetivo es maximizar la ganancia de información en cada división, que definimos de la siguiente manera:\n",
    "\n",
    "\\begin{align}\n",
    "IG(D_p,f) = I(D_p) - \\sum_{j=1}^{m}{\\frac{N_j}{N_p}I(D_j)}\n",
    "\\end{align}\n",
    "\n",
    "$f$  :  Característica (feature to perform)  \n",
    "$D_p, D_j$  :  Son el conjunto de datos del nodo primario y el $j^{th}$ secundario  \n",
    "$I$  :  Es nuestra medida de **Impureza**  \n",
    "$N_p$  :  Es el número total de muestras en el nodo principal  \n",
    "$N_j$  :  es el número de muestras en el $j^{th}$ nodo hijo  \n",
    "\n",
    "La ganancia de información es simplemente la diferencia entre la impureza del nodo principal y la suma de las impurezas del nodo secundario: **cuanto menor es la impureza de los nodos secundarios, mayor es la ganancia de información**."
   ]
  },
  {
   "cell_type": "markdown",
   "metadata": {},
   "source": [
    "La mayoría de las bibliotecas (incluyendo sklearn) implementan **árboles de decisión binarios**. Esto significa que cada nodo padre se divide en dos nodos hijos, $D_{left}$ y $D_{right}$  \n",
    "  \n",
    "\n",
    "\\begin{align}\n",
    "IG(D_p,a) = I(D_p) - \\frac{N_{left}}{N_p}I(D_{left}) - \\frac{N_{right}}{N_p}I(D_{right})\n",
    "\\end{align}"
   ]
  },
  {
   "cell_type": "markdown",
   "metadata": {},
   "source": [
    "### Medidas de impureza\n",
    "\n",
    "Las tres medidas de impureza o criterios de división son:\n",
    "* **Índice de Gini** ($I_G$)\n",
    "* **Entropía** ($I_H$)\n",
    "* **Error de clasificación** ($I_E$)\n",
    "\n",
    "### Entropía\n",
    "\n",
    "La entropía se refiere a una **medida de incertidumbre o desorden**, ayuda a elegir cuál atributo deber ser el siguiente en seleccionarse.  \n",
    "Comencemos con la definición de entropía para todas las clases no vacías ($p (i | t) ≠ 0$):\n",
    "\n",
    "\\begin{align}\n",
    "I_H(t) = -\\sum_{i=1}^{c}{p(i|t)\\log_2 p(i|t)}\n",
    "\\end{align}\n",
    "\n",
    "$p(i|t)$: Proporción de las muestras que pertenecen a c en un nodo t  \n",
    "$c$ : Clase  \n",
    "$t$ : Nodo particular  \n",
    "  \n",
    "La **entropía** es 0 si todas las muestras en un nodo pertenecen a la misma clase.  \n",
    "La **entropía** es máxima si tenemos una distribución de la clase uniforme. Se dice que es la máxima incertidumbre\n",
    "\n",
    "En de finitiva el criterio de entropía intenta maximizar la información mutua en el árbol.\n"
   ]
  },
  {
   "cell_type": "markdown",
   "metadata": {},
   "source": [
    "### Índice Gini\n",
    "\n",
    "Puede entenderse como un criterio para minimizar la probabilidad de error de clasificación:\n",
    "\n",
    "\\begin{align}\n",
    "I_G(t) = \\sum_{i=1}^{c}{p(i|t)·(-p(i|t))} = 1 - \\sum_{i=1}^{c}{p(i|t)^2}\n",
    "\\end{align}\n",
    "\n",
    "El **Índice Gini** es máximo si las clases están perfectamente mezcladas  \n",
    "Por ejemplo en una configuración de clase binaria:\n",
    "\n",
    "\\begin{align}\n",
    "1 - \\sum_{i=1}^{c}{0.5^2} = 0.5\n",
    "\\end{align}"
   ]
  },
  {
   "cell_type": "markdown",
   "metadata": {},
   "source": [
    "Sin embargo, en la práctica, tanto el índice de Gini como la entropía generalmente producen resultados muy similares y, a menudo, no vale la pena dedicar mucho tiempo a evaluar árboles utilizando diferentes criterios de impureza en lugar de experimentar con diferentes cortes de poda."
   ]
  },
  {
   "cell_type": "markdown",
   "metadata": {},
   "source": [
    " ### Error de clasificación\n",
    " \n",
    "\\begin{align}\n",
    "I_E = 1 - max[p(i|t) ]\n",
    "\\end{align}\n",
    " \n",
    "Es un criterio útil para la poda, mas no para hacer crecer un árbol de decisión"
   ]
  },
  {
   "cell_type": "markdown",
   "metadata": {},
   "source": [
    "### Ejemplo\n",
    "\n",
    "![imagen.png](attachment:imagen.png)"
   ]
  },
  {
   "cell_type": "markdown",
   "metadata": {},
   "source": [
    "* Formulas Generales\n",
    "\n",
    "    $IG(D_p,a) = I(D_p) - \\frac{N_{left}}{N_p}I(D_{left}) - \\frac{N_{right}}{N_p}I(D_{right})$  \n",
    "\n",
    "    $I_H(t) = -\\sum_{i=1}^{c}{p(i|t)\\log_2 p(i|t)}$  \n",
    "\n",
    "    $ I_G(t) = \\sum_{i=1}^{c}{p(i|t)·(-p(i|t))} = 1 - \\sum_{i=1}^{c}{p(i|t)^2} $  \n",
    "\n",
    "    $  I_E = 1 - max[p(i|t) ] $  \n",
    "\n",
    "\n",
    "* $ IG $ en ámbos árboles   \n",
    "    \n",
    "    $ I_E (D_p) = 1−max[0.5 , 0.5]=0.5 $\n",
    "    \n",
    "    $ I_E (D_p) = 1−0.5=0.5 $ \n",
    "    \n",
    "    $ A: I_E (D_{left})= 1 − \\frac{3}{4} = 0.25 $  \n",
    "     \n",
    "    $ A: I_E (D_{right})= 1 − \\frac{3}{4} = 0.25 $  \n",
    "    \n",
    "    $ A: IG_E = 0.5 − \\frac{40}{80} 0.25 − \\frac{40}{80} 0.25 = 0.25 $  \n",
    "    \n",
    "    $ A: IG_E = 0.25 $ \n",
    "    \n",
    "    $ B: I_E (D_{left})= 1 − \\frac{4}{6} = \\frac{1}{3} $  \n",
    "     \n",
    "    $ B: I_E (D_{right})= 1 − \\frac{20}{20} = 0 $  \n",
    "    \n",
    "    $ B: IG_E = 0.5 − \\frac{60}{80}·\\frac{1}{3} − \\frac{20}{80}·0 = 0.25 $  \n",
    "    \n",
    "    $ B: IG_E = 0.25 $ \n",
    "    \n",
    "    Para ámbos árboles la ganancia de información bajo el error de calsificación es 0.25"
   ]
  },
  {
   "cell_type": "code",
   "execution_count": 3,
   "metadata": {},
   "outputs": [],
   "source": [
    "import matplotlib.pyplot as plt\n",
    "import numpy as np\n",
    "def gini(p):\n",
    "    return (p)*(1 - (p)) + (1 - p)*(1 - (1-p))\n",
    "def entropy(p):\n",
    "    return - p*np.log2(p) - (1 - p)*np.log2((1 - p))\n",
    "def error(p):\n",
    "    return 1 - np.max([p, 1 - p])"
   ]
  },
  {
   "cell_type": "code",
   "execution_count": 4,
   "metadata": {},
   "outputs": [
    {
     "data": {
      "image/png": "[encoded data removed]",
      "text/plain": [
       "<Figure size 432x288 with 1 Axes>"
      ]
     },
     "metadata": {
      "needs_background": "light"
     },
     "output_type": "display_data"
    }
   ],
   "source": [
    "x = np.arange(0.0, 1.0, 0.01)\n",
    "ent = [entropy(p) if p != 0 else None for p in x]\n",
    "sc_ent = [e*0.5 if e else None for e in ent]\n",
    "err = [error(i) for i in x]\n",
    "fig = plt.figure()\n",
    "ax = plt.subplot(111)\n",
    "for i, lab, ls, c, in zip([ent, sc_ent, gini(x), err],\n",
    "                          ['Entropy',\n",
    "                           'Entropy (scaled)',\n",
    "                           'Gini Impurity',\n",
    "                           'Misclasification Error'\n",
    "                          ],\n",
    "                          ['-','-','--','-.'],\n",
    "                          ['black','lightgray','red','green','cyan']\n",
    "                         ):\n",
    "    line = ax.plot(x,i, label = lab,linestyle = ls,lw = 2, color = c)\n",
    "    \n",
    "ax.legend(loc='upper center', bbox_to_anchor=(0.5, 1.15),\n",
    "          ncol=3, fancybox=True, shadow=False)\n",
    "ax.axhline(y=0.5, linewidth=1, color='k', linestyle='--')\n",
    "ax.axhline(y=1.0, linewidth=1, color='k', linestyle='--')\n",
    "plt.ylim([0, 1.1])\n",
    "plt.xlabel('p(i=1)')\n",
    "plt.ylabel('Impurity Index')\n",
    "plt.show()"
   ]
  },
  {
   "cell_type": "code",
   "execution_count": 105,
   "metadata": {},
   "outputs": [
    {
     "data": {
      "text/html": [
       "<div>\n",
       "<style scoped>\n",
       "    .dataframe tbody tr th:only-of-type {\n",
       "        vertical-align: middle;\n",
       "    }\n",
       "\n",
       "    .dataframe tbody tr th {\n",
       "        vertical-align: top;\n",
       "    }\n",
       "\n",
       "    .dataframe thead th {\n",
       "        text-align: right;\n",
       "    }\n",
       "</style>\n",
       "<table border=\"1\" class=\"dataframe\">\n",
       "  <thead>\n",
       "    <tr style=\"text-align: right;\">\n",
       "      <th></th>\n",
       "      <th>edad</th>\n",
       "      <th>estatura</th>\n",
       "      <th>peso</th>\n",
       "      <th>calzado</th>\n",
       "      <th>genero</th>\n",
       "    </tr>\n",
       "  </thead>\n",
       "  <tbody>\n",
       "    <tr>\n",
       "      <th>0</th>\n",
       "      <td>24</td>\n",
       "      <td>165</td>\n",
       "      <td>65</td>\n",
       "      <td>39</td>\n",
       "      <td>Masculino</td>\n",
       "    </tr>\n",
       "    <tr>\n",
       "      <th>1</th>\n",
       "      <td>50</td>\n",
       "      <td>160</td>\n",
       "      <td>58</td>\n",
       "      <td>35</td>\n",
       "      <td>Femenino</td>\n",
       "    </tr>\n",
       "    <tr>\n",
       "      <th>2</th>\n",
       "      <td>26</td>\n",
       "      <td>158</td>\n",
       "      <td>50</td>\n",
       "      <td>36</td>\n",
       "      <td>Femenino</td>\n",
       "    </tr>\n",
       "    <tr>\n",
       "      <th>3</th>\n",
       "      <td>29</td>\n",
       "      <td>169</td>\n",
       "      <td>76</td>\n",
       "      <td>39</td>\n",
       "      <td>Masculino</td>\n",
       "    </tr>\n",
       "    <tr>\n",
       "      <th>4</th>\n",
       "      <td>35</td>\n",
       "      <td>189</td>\n",
       "      <td>79</td>\n",
       "      <td>42</td>\n",
       "      <td>Masculino</td>\n",
       "    </tr>\n",
       "    <tr>\n",
       "      <th>5</th>\n",
       "      <td>62</td>\n",
       "      <td>172</td>\n",
       "      <td>75</td>\n",
       "      <td>37</td>\n",
       "      <td>Femenino</td>\n",
       "    </tr>\n",
       "    <tr>\n",
       "      <th>6</th>\n",
       "      <td>65</td>\n",
       "      <td>170</td>\n",
       "      <td>77</td>\n",
       "      <td>40</td>\n",
       "      <td>Masculino</td>\n",
       "    </tr>\n",
       "    <tr>\n",
       "      <th>7</th>\n",
       "      <td>12</td>\n",
       "      <td>150</td>\n",
       "      <td>45</td>\n",
       "      <td>37</td>\n",
       "      <td>Masculino</td>\n",
       "    </tr>\n",
       "    <tr>\n",
       "      <th>8</th>\n",
       "      <td>18</td>\n",
       "      <td>170</td>\n",
       "      <td>64</td>\n",
       "      <td>37</td>\n",
       "      <td>Femenino</td>\n",
       "    </tr>\n",
       "    <tr>\n",
       "      <th>9</th>\n",
       "      <td>38</td>\n",
       "      <td>175</td>\n",
       "      <td>72</td>\n",
       "      <td>40</td>\n",
       "      <td>Masculino</td>\n",
       "    </tr>\n",
       "  </tbody>\n",
       "</table>\n",
       "</div>"
      ],
      "text/plain": [
       "   edad  estatura  peso  calzado     genero\n",
       "0    24       165    65       39  Masculino\n",
       "1    50       160    58       35   Femenino\n",
       "2    26       158    50       36   Femenino\n",
       "3    29       169    76       39  Masculino\n",
       "4    35       189    79       42  Masculino\n",
       "5    62       172    75       37   Femenino\n",
       "6    65       170    77       40  Masculino\n",
       "7    12       150    45       37  Masculino\n",
       "8    18       170    64       37   Femenino\n",
       "9    38       175    72       40  Masculino"
      ]
     },
     "execution_count": 105,
     "metadata": {},
     "output_type": "execute_result"
    }
   ],
   "source": [
    "import pandas as pd\n",
    "data = pd.DataFrame({\n",
    "    'edad':[24,50,26,29,35,62,65,12,18,38,21,19,34,54,26, 21, 54, 30, 24, 27, 57, 18, 21, 55, 27, 33, 35, 50, 28, 31, 59, 59,37],\n",
    "    'estatura':[165,160,158,169,189,172,170,150,170,175,180,185,168,158,167, 173, 184, 175, 166, 163, 158, 167, 169, 160, 181, 155, 168, 160, 160,172, 169, 183, 176],\n",
    "    'peso':[65,58,50,76,79,75,77,45,64,72,110,80,62,74,66, 59, 80, 77, 78, 67, 80, 54, 78, 58, 83, 52, 56, 54, 57, 66, 78, 67, 66],\n",
    "    'calzado':[39,35,36,39,42,37,40,37,37,40,42,41,37,36,38, 37, 40, 36, 39, 38, 37, 40, 38, 40, 38, 38, 39, 36, 38, 38, 38, 40, 41],\n",
    "    'genero':['Masculino','Femenino','Femenino','Masculino','Masculino','Femenino','Masculino','Masculino','Femenino','Masculino','Masculino','Masculino','Femenino','Femenino','Masculino', 'Femenino', 'Masculino', 'Femenino', 'Masculino', 'Femenino','Femenino', 'Masculino', 'Masculino', 'Masculino', 'Masculino', 'Femenino','Masculino', 'Femenino', 'Masculino', 'Masculino', 'Masculino', 'Masculino','Masculino']\n",
    "})\n",
    "data.head(10)"
   ]
  },
  {
   "cell_type": "code",
   "execution_count": 104,
   "metadata": {},
   "outputs": [
    {
     "data": {
      "text/plain": [
       "array(['Masculino'], dtype=object)"
      ]
     },
     "execution_count": 104,
     "metadata": {},
     "output_type": "execute_result"
    }
   ],
   "source": [
    "from sklearn.tree import DecisionTreeClassifier\n",
    "import numpy as np\n",
    "X_train = data.drop('genero',axis=1)\n",
    "y_train = data['genero']\n",
    "X_test = np.array([[24,165,59,39]])\n",
    "#y_test = np.array([['Femenino'],['Masculino']])\n",
    "tree = DecisionTreeClassifier(criterion='entropy', max_depth=2, random_state=0)\n",
    "tree.fit(X_train, y_train)\n",
    "tree.predict(X_test)"
   ]
  },
  {
   "cell_type": "code",
   "execution_count": 102,
   "metadata": {},
   "outputs": [],
   "source": [
    "from sklearn.tree import export_graphviz\n",
    "export_graphviz(tree,out_file='tree.dot', feature_names=['Edad', 'Estatura','Peso','Calzado'])"
   ]
  },
  {
   "cell_type": "markdown",
   "metadata": {},
   "source": [
    "### Random Forest\n",
    "\n",
    "El Random Forest crea múltiples árboles de decisión y los combina para obtener una predicción más precisa y estable.\n",
    "\n",
    "#### Ventajas\n",
    "\n",
    "* Sirve tanto para clasificacion como para regresion\n",
    "* "
   ]
  },
  {
   "cell_type": "code",
   "execution_count": 55,
   "metadata": {},
   "outputs": [
    {
     "data": {
      "text/html": [
       "<div>\n",
       "<style scoped>\n",
       "    .dataframe tbody tr th:only-of-type {\n",
       "        vertical-align: middle;\n",
       "    }\n",
       "\n",
       "    .dataframe tbody tr th {\n",
       "        vertical-align: top;\n",
       "    }\n",
       "\n",
       "    .dataframe thead th {\n",
       "        text-align: right;\n",
       "    }\n",
       "</style>\n",
       "<table border=\"1\" class=\"dataframe\">\n",
       "  <thead>\n",
       "    <tr style=\"text-align: right;\">\n",
       "      <th></th>\n",
       "      <th>sepal_length</th>\n",
       "      <th>sepal_width</th>\n",
       "      <th>petal_length</th>\n",
       "      <th>petal_width</th>\n",
       "    </tr>\n",
       "  </thead>\n",
       "  <tbody>\n",
       "    <tr>\n",
       "      <th>0</th>\n",
       "      <td>5.1</td>\n",
       "      <td>3.5</td>\n",
       "      <td>1.4</td>\n",
       "      <td>0.2</td>\n",
       "    </tr>\n",
       "    <tr>\n",
       "      <th>1</th>\n",
       "      <td>4.9</td>\n",
       "      <td>3.0</td>\n",
       "      <td>1.4</td>\n",
       "      <td>0.2</td>\n",
       "    </tr>\n",
       "    <tr>\n",
       "      <th>2</th>\n",
       "      <td>4.7</td>\n",
       "      <td>3.2</td>\n",
       "      <td>1.3</td>\n",
       "      <td>0.2</td>\n",
       "    </tr>\n",
       "    <tr>\n",
       "      <th>3</th>\n",
       "      <td>4.6</td>\n",
       "      <td>3.1</td>\n",
       "      <td>1.5</td>\n",
       "      <td>0.2</td>\n",
       "    </tr>\n",
       "    <tr>\n",
       "      <th>4</th>\n",
       "      <td>5.0</td>\n",
       "      <td>3.6</td>\n",
       "      <td>1.4</td>\n",
       "      <td>0.2</td>\n",
       "    </tr>\n",
       "    <tr>\n",
       "      <th>5</th>\n",
       "      <td>5.4</td>\n",
       "      <td>3.9</td>\n",
       "      <td>1.7</td>\n",
       "      <td>0.4</td>\n",
       "    </tr>\n",
       "    <tr>\n",
       "      <th>6</th>\n",
       "      <td>4.6</td>\n",
       "      <td>3.4</td>\n",
       "      <td>1.4</td>\n",
       "      <td>0.3</td>\n",
       "    </tr>\n",
       "    <tr>\n",
       "      <th>7</th>\n",
       "      <td>5.0</td>\n",
       "      <td>3.4</td>\n",
       "      <td>1.5</td>\n",
       "      <td>0.2</td>\n",
       "    </tr>\n",
       "    <tr>\n",
       "      <th>8</th>\n",
       "      <td>4.4</td>\n",
       "      <td>2.9</td>\n",
       "      <td>1.4</td>\n",
       "      <td>0.2</td>\n",
       "    </tr>\n",
       "    <tr>\n",
       "      <th>9</th>\n",
       "      <td>4.9</td>\n",
       "      <td>3.1</td>\n",
       "      <td>1.5</td>\n",
       "      <td>0.1</td>\n",
       "    </tr>\n",
       "  </tbody>\n",
       "</table>\n",
       "</div>"
      ],
      "text/plain": [
       "   sepal_length  sepal_width  petal_length  petal_width\n",
       "0           5.1          3.5           1.4          0.2\n",
       "1           4.9          3.0           1.4          0.2\n",
       "2           4.7          3.2           1.3          0.2\n",
       "3           4.6          3.1           1.5          0.2\n",
       "4           5.0          3.6           1.4          0.2\n",
       "5           5.4          3.9           1.7          0.4\n",
       "6           4.6          3.4           1.4          0.3\n",
       "7           5.0          3.4           1.5          0.2\n",
       "8           4.4          2.9           1.4          0.2\n",
       "9           4.9          3.1           1.5          0.1"
      ]
     },
     "execution_count": 55,
     "metadata": {},
     "output_type": "execute_result"
    }
   ],
   "source": [
    "from sklearn.datasets import load_iris\n",
    "data = load_iris()\n",
    "df = pd.DataFrame(data['data'],columns =['sepal_length','sepal_width','petal_length','petal_width'])\n",
    "df.head(10)"
   ]
  },
  {
   "cell_type": "code",
   "execution_count": 57,
   "metadata": {},
   "outputs": [
    {
     "data": {
      "text/plain": [
       "<matplotlib.axes._subplots.AxesSubplot at 0x11d0342e8>"
      ]
     },
     "execution_count": 57,
     "metadata": {},
     "output_type": "execute_result"
    },
    {
     "data": {
      "image/png": "[encoded data removed]",
      "text/plain": [
       "<Figure size 432x288 with 1 Axes>"
      ]
     },
     "metadata": {
      "needs_background": "light"
     },
     "output_type": "display_data"
    }
   ],
   "source": [
    "df.boxplot()"
   ]
  },
  {
   "cell_type": "code",
   "execution_count": 61,
   "metadata": {},
   "outputs": [
    {
     "data": {
      "text/plain": [
       "RandomForestClassifier(bootstrap=True, class_weight=None, criterion='entropy',\n",
       "            max_depth=None, max_features='auto', max_leaf_nodes=None,\n",
       "            min_impurity_decrease=0.0, min_impurity_split=None,\n",
       "            min_samples_leaf=1, min_samples_split=2,\n",
       "            min_weight_fraction_leaf=0.0, n_estimators=10, n_jobs=2,\n",
       "            oob_score=False, random_state=1, verbose=0, warm_start=False)"
      ]
     },
     "execution_count": 61,
     "metadata": {},
     "output_type": "execute_result"
    }
   ],
   "source": [
    "from sklearn.ensemble import RandomForestClassifier\n",
    "forest = RandomForestClassifier(criterion='entropy',n_estimators=10,random_state=1,n_jobs=2)\n",
    "forest.fit(data['data'], data['target'])"
   ]
  },
  {
   "cell_type": "code",
   "execution_count": null,
   "metadata": {},
   "outputs": [],
   "source": []
  }
 ],
 "metadata": {
  "kernelspec": {
   "display_name": "Python 3",
   "language": "python",
   "name": "python3"
  },
  "language_info": {
   "codemirror_mode": {
    "name": "ipython",
    "version": 3
   },
   "file_extension": ".py",
   "mimetype": "text/x-python",
   "name": "python",
   "nbconvert_exporter": "python",
   "pygments_lexer": "ipython3",
   "version": "3.7.0"
  }
 },
 "nbformat": 4,
 "nbformat_minor": 2
}
